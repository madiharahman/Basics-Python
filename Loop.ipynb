{
 "cells": [
  {
   "cell_type": "code",
   "execution_count": null,
   "id": "74440177-5e3e-4726-b173-ac67259af001",
   "metadata": {},
   "outputs": [],
   "source": [
    "#Write a program to accept percentage from the user and display the grade accordingly."
   ]
  },
  {
   "cell_type": "code",
   "execution_count": 2,
   "id": "a9b736b5-bdc5-42d4-abc1-c90efd65f0d3",
   "metadata": {},
   "outputs": [
    {
     "name": "stdin",
     "output_type": "stream",
     "text": [
      "Enter percentage: 101\n"
     ]
    },
    {
     "name": "stdout",
     "output_type": "stream",
     "text": [
      "Not valid input\n"
     ]
    }
   ],
   "source": [
    "pct = int(input(\"Enter percentage:\"))\n",
    "if pct > 90 and pct <= 100:\n",
    "    print(\"Grade A\")\n",
    "elif pct > 80 and pct <= 90:\n",
    "    print(\"Grade B\")\n",
    "elif pct >= 60 and pct <= 80:\n",
    "    print(\"Grade C\")\n",
    "elif pct < 60:\n",
    "    print(\"Grade D\")\n",
    "else:\n",
    "    print(\"Not valid input\")"
   ]
  },
  {
   "cell_type": "code",
   "execution_count": null,
   "id": "a6419946-d424-487e-a9a3-0d0ac469dd02",
   "metadata": {},
   "outputs": [],
   "source": [
    "#Write a program to accept the cost price of a bike and display the road tax to be paid accordingly "
   ]
  },
  {
   "cell_type": "code",
   "execution_count": 8,
   "id": "36fc099f-f7eb-4684-9c5a-5da68a1e8cea",
   "metadata": {},
   "outputs": [
    {
     "name": "stdin",
     "output_type": "stream",
     "text": [
      "Enter cost of a bike :  10000000\n"
     ]
    },
    {
     "name": "stdout",
     "output_type": "stream",
     "text": [
      "Tax =  1500000.0\n"
     ]
    }
   ],
   "source": [
    "tax=0\n",
    "price = int(input(\"Enter cost of a bike : \"))\n",
    "if price > 100000:\n",
    "    tax = 15/100 * price\n",
    "elif price > 50000 and price <= 100000:\n",
    "    tax = 10/100 * price\n",
    "else:\n",
    "    tax = 5/100 * price\n",
    "print(\"Tax = \", tax)"
   ]
  },
  {
   "cell_type": "code",
   "execution_count": null,
   "id": "a9cf2316-9f45-4d35-a9c0-70b66a7b374b",
   "metadata": {},
   "outputs": [],
   "source": [
    "#3. Accept any city from the user and display monument of that city."
   ]
  },
  {
   "cell_type": "code",
   "execution_count": 9,
   "id": "55d8ab25-342e-4982-8962-229a576b1fc5",
   "metadata": {},
   "outputs": [
    {
     "name": "stdin",
     "output_type": "stream",
     "text": [
      "Enter city: Mumbai\n"
     ]
    },
    {
     "name": "stdout",
     "output_type": "stream",
     "text": [
      "No record's\n"
     ]
    }
   ],
   "source": [
    "city = str(input(\"Enter city:\"))\n",
    "if city == \"Delhi\" or city == \"delhi\":\n",
    "    print(\"Red Fort\")\n",
    "elif city == \"Agra\" or city == \"agra\":\n",
    "    print(\"Taj Mahal\")\n",
    "elif city == \"Jaipur\" or city == \"jaipur\":\n",
    "    print(\"Jal Mahal\")\n",
    "else:\n",
    "    print(\"No record's\")"
   ]
  },
  {
   "cell_type": "code",
   "execution_count": null,
   "id": "361bf5b7-3af3-451a-a3b3-6018d6d4046c",
   "metadata": {},
   "outputs": [],
   "source": [
    "#4. Check how many times a given number can be divided by 3 before it is less than or equal to 10."
   ]
  },
  {
   "cell_type": "code",
   "execution_count": 1,
   "id": "615f2a37-c5cf-4021-ac85-1283d07a9636",
   "metadata": {},
   "outputs": [
    {
     "name": "stdin",
     "output_type": "stream",
     "text": [
      "Enter input :  144\n"
     ]
    },
    {
     "name": "stdout",
     "output_type": "stream",
     "text": [
      "Output =  2\n"
     ]
    }
   ],
   "source": [
    "num = int(input(\"Enter input : \"))\n",
    "counter = 0\n",
    "while num >= 10:\n",
    "    if (num%3 == 0):\n",
    "        counter = counter + 1\n",
    "    num = num/3\n",
    "print(\"Output = \",counter)"
   ]
  },
  {
   "cell_type": "code",
   "execution_count": null,
   "id": "f37d9533-0860-48a8-a30e-235e1022d876",
   "metadata": {},
   "outputs": [],
   "source": [
    "#5. Why and When to use while Loop in Python give a detailed description with example."
   ]
  },
  {
   "cell_type": "code",
   "execution_count": null,
   "id": "b3abeb29-8251-41fa-bffa-71198b55bb87",
   "metadata": {},
   "outputs": [],
   "source": [
    "\"\"\"While loop is used to repeat a block of code. While loop does the exactly same thing what “if statement” does,\n",
    "but instead of running the code block once, they jump back to the point where it began the code \n",
    "and repeats the whole process again until a certain condition is met.\"\"\""
   ]
  },
  {
   "cell_type": "code",
   "execution_count": 1,
   "id": "57191fae-5dbb-4bab-8c04-6dda2e2de873",
   "metadata": {},
   "outputs": [
    {
     "name": "stdout",
     "output_type": "stream",
     "text": [
      "0\n",
      "2\n",
      "4\n",
      "6\n",
      "8\n"
     ]
    }
   ],
   "source": [
    "#Example\n",
    "x=0\n",
    "while x<10:\n",
    "    print(x)\n",
    "    x += 2"
   ]
  },
  {
   "cell_type": "code",
   "execution_count": null,
   "id": "dfad65ba-9a1c-4907-ae23-a9b061677b6e",
   "metadata": {},
   "outputs": [],
   "source": [
    "#6. Use nested while loop to print 3 different pattern."
   ]
  },
  {
   "cell_type": "code",
   "execution_count": 9,
   "id": "3b360f61-bac8-448b-b89c-fb071235757e",
   "metadata": {},
   "outputs": [
    {
     "name": "stdout",
     "output_type": "stream",
     "text": [
      "* \n",
      "* * \n",
      "* * * \n",
      "* * * * \n",
      "* * * * * \n"
     ]
    }
   ],
   "source": [
    "#Pattern 1 Right triangle\n",
    "i=1\n",
    "while i<=5:\n",
    "    j=1\n",
    "    while j<=i:\n",
    "        print(\"*\",end=\" \")\n",
    "        j+=1\n",
    "    print()\n",
    "    i+=1"
   ]
  },
  {
   "cell_type": "code",
   "execution_count": 8,
   "id": "9aa4e1e0-6f83-4c35-a0ae-95275eca5a8a",
   "metadata": {},
   "outputs": [
    {
     "name": "stdout",
     "output_type": "stream",
     "text": [
      "* * * * * \n",
      "* * * * \n",
      "* * * \n",
      "* * \n",
      "* \n"
     ]
    }
   ],
   "source": [
    "#Pattern 2 Inverted Right triangle\n",
    "i=1\n",
    "while i<=5:\n",
    "    j=5\n",
    "    while j>=i:\n",
    "        print(\"*\",end=\" \")\n",
    "        j-=1\n",
    "    print()\n",
    "    i+=1"
   ]
  },
  {
   "cell_type": "code",
   "execution_count": 7,
   "id": "9094f8ab-717b-4eb0-b62e-766014b9ea88",
   "metadata": {},
   "outputs": [
    {
     "name": "stdout",
     "output_type": "stream",
     "text": [
      "    * \n",
      "   * * \n",
      "  * * * \n",
      " * * * * \n",
      "* * * * * \n"
     ]
    }
   ],
   "source": [
    "#Pattern 3 Pyramid\n",
    "i=0\n",
    "while i<5:\n",
    "    j=4-i\n",
    "    while j>0:\n",
    "        print(end=\" \")\n",
    "        j-=1\n",
    "    k=i+1\n",
    "    while k>0:\n",
    "        print(\"*\",end=\" \")\n",
    "        k=k-1\n",
    "    i+=1\n",
    "    print()"
   ]
  },
  {
   "cell_type": "code",
   "execution_count": null,
   "id": "2b484d88-698d-4c8c-8346-5b636d5975fe",
   "metadata": {},
   "outputs": [],
   "source": [
    "#7. Reverse a while loop to display numbers from 10 to 1."
   ]
  },
  {
   "cell_type": "code",
   "execution_count": 13,
   "id": "86530de4-8ef0-469a-bd75-8e67dc35a535",
   "metadata": {},
   "outputs": [
    {
     "name": "stdout",
     "output_type": "stream",
     "text": [
      "10\n",
      "9\n",
      "8\n",
      "7\n",
      "6\n",
      "5\n",
      "4\n",
      "3\n",
      "2\n",
      "1\n"
     ]
    }
   ],
   "source": [
    "x=10\n",
    "while x>0:\n",
    "    print(x)\n",
    "    x -= 1"
   ]
  }
 ],
 "metadata": {
  "kernelspec": {
   "display_name": "Python 3 (ipykernel)",
   "language": "python",
   "name": "python3"
  },
  "language_info": {
   "codemirror_mode": {
    "name": "ipython",
    "version": 3
   },
   "file_extension": ".py",
   "mimetype": "text/x-python",
   "name": "python",
   "nbconvert_exporter": "python",
   "pygments_lexer": "ipython3",
   "version": "3.10.8"
  }
 },
 "nbformat": 4,
 "nbformat_minor": 5
}
