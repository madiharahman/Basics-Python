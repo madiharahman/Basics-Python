{
 "cells": [
  {
   "cell_type": "code",
   "execution_count": null,
   "id": "7b759d42-16e4-4686-8b40-96773639b2cf",
   "metadata": {},
   "outputs": [],
   "source": [
    "#1. What is a database? Differentiate between SQL and NoSQL databases."
   ]
  },
  {
   "cell_type": "markdown",
   "id": "49251540-7d15-48df-9e89-2bd8a892f259",
   "metadata": {},
   "source": [
    "A database is an organized collection of structured information, or data, typically stored electronically \n",
    "in a computer system. A database is usually controlled by a database management system (DBMS). \n",
    "Together, the data and the DBMS, along with the applications that are associated with them, \n",
    "are referred to as a database system, often shortened to just database.\n",
    "\n",
    "SQL, which stands for “Structured Query Language,” is the programming language that’s been widely used in \n",
    "managing data in relational database management systems (RDBMS) since the 1970s. \n",
    "\n",
    "In the early years, when storage was expensive, SQL databases focused on reducing data duplication.\n",
    "SQL is still widely used for querying relational databases, where data is stored in rows and tables \n",
    "that are linked in various ways. One table record may link to one other or to many others, \n",
    "or many table records may be related to many records in another table. \n",
    "These relational databases, which offer fast data storage and recovery, can handle great amounts of data\n",
    "and complex SQL queries.\n",
    "\n",
    "In the other hand NoSQL is a non-relational database, meaning it allows different structures than a \n",
    "SQL database (not rows and columns) and more flexibility to use a format that best fits the data. \n",
    "The term “NoSQL” was not coined until the early 2000s. It doesn’t mean the systems don’t use SQL, \n",
    "as NoSQL databases do sometimes support some SQL commands. More accurately, \n",
    "“NoSQL” is sometimes defined as “not only SQL.” "
   ]
  },
  {
   "cell_type": "code",
   "execution_count": null,
   "id": "f9cb4a83-398d-46ea-a079-3904b7f428f0",
   "metadata": {},
   "outputs": [],
   "source": [
    "#2. What is DDL? Explain why CREATE, DROP, ALTER, and TRUNCATE are used with an example."
   ]
  },
  {
   "cell_type": "markdown",
   "id": "0679d289-420a-4c84-a2f9-3878e86fff64",
   "metadata": {},
   "source": [
    "Data Definition Language(DDL) is a subset of SQL and a part of DBMS(Database Management System). \n",
    "DDL consist of Commands to commands like CREATE, ALTER, TRUNCATE and DROP. These commands are used to create \n",
    "or modify the tables in SQL."
   ]
  },
  {
   "cell_type": "code",
   "execution_count": null,
   "id": "42c410e2-c0ca-4a49-890c-971230cbe163",
   "metadata": {},
   "outputs": [],
   "source": [
    "#CREATE"
   ]
  },
  {
   "cell_type": "markdown",
   "id": "2d2637b0-8324-4835-a980-37b2ba7a851e",
   "metadata": {},
   "source": [
    "This command is used to create a new table in SQL. The user has to give information like table name, column names, and their datatypes."
   ]
  },
  {
   "cell_type": "code",
   "execution_count": null,
   "id": "7382a579-d907-4d9b-b780-3bb79da19627",
   "metadata": {},
   "outputs": [],
   "source": [
    "CREATE TABLE Student_info\n",
    "(\n",
    "Dept_Id number(2),\n",
    "Dept_name varchar(30),\n",
    "Course varchar(10)\n",
    ");"
   ]
  },
  {
   "cell_type": "code",
   "execution_count": null,
   "id": "682c6ea9-a354-4dd8-b44c-2806b747e1c6",
   "metadata": {},
   "outputs": [],
   "source": [
    "#ALTER"
   ]
  },
  {
   "cell_type": "markdown",
   "id": "c608834e-4da9-4e7d-8fd4-fa8801156cdf",
   "metadata": {},
   "source": [
    "This command is used to add, delete or change columns in the existing table. The user needs to know the existing table name and can do add, delete or modify tasks easily."
   ]
  },
  {
   "cell_type": "code",
   "execution_count": null,
   "id": "a30d1790-06ba-4c6d-970a-c0cf90052ed9",
   "metadata": {},
   "outputs": [],
   "source": [
    "ALTER TABLE Student_info\n",
    "ADD CGPA number;"
   ]
  },
  {
   "cell_type": "code",
   "execution_count": null,
   "id": "cb478f59-0243-4cd6-a0ea-6cf8e4d80c29",
   "metadata": {},
   "outputs": [],
   "source": [
    "#TRUNCATE"
   ]
  },
  {
   "cell_type": "markdown",
   "id": "39cc8ee1-53d4-4cc9-a049-ba57f7d18a5d",
   "metadata": {},
   "source": [
    "This command is used to remove all rows from the table, but the structure of the table still exists."
   ]
  },
  {
   "cell_type": "code",
   "execution_count": null,
   "id": "c33b9089-e37a-4f51-88b8-8164d0085bdc",
   "metadata": {},
   "outputs": [],
   "source": [
    "TRUNCATE TABLE Student_info;"
   ]
  },
  {
   "cell_type": "code",
   "execution_count": null,
   "id": "97d7742e-fbfb-4fb1-8cf3-5e722b7f92b4",
   "metadata": {},
   "outputs": [],
   "source": [
    "#DROP"
   ]
  },
  {
   "cell_type": "markdown",
   "id": "61df54c4-e709-4568-bceb-5eb5a8554f15",
   "metadata": {},
   "source": [
    "This command is used to remove an existing table along with its structure from the Database."
   ]
  },
  {
   "cell_type": "code",
   "execution_count": null,
   "id": "4c84c326-ba7f-4e02-a19d-5fd7cc0a1764",
   "metadata": {},
   "outputs": [],
   "source": [
    "DROP TABLE Student_info;"
   ]
  },
  {
   "cell_type": "code",
   "execution_count": null,
   "id": "c1968d3c-a575-47e2-8391-4da8e882087e",
   "metadata": {},
   "outputs": [],
   "source": [
    "#3. What is DML? Explain INSERT, UPDATE, and DELETE with an example."
   ]
  },
  {
   "cell_type": "markdown",
   "id": "31b13430-7f90-4051-85e6-6245bb848cbc",
   "metadata": {},
   "source": [
    "The data manipulation language statements are used to retrieve, add, delete, and modify the data that is stored in the objects of database. The keywords or statements that are associated with the data manipulation language are: INSERT, UPDATE and DELETE. These are the primary statements of data manipulation language (DML) and are used widely."
   ]
  },
  {
   "cell_type": "code",
   "execution_count": null,
   "id": "f5a6579a-7bf1-49e1-9262-81ba52456708",
   "metadata": {},
   "outputs": [],
   "source": [
    "#INSERT"
   ]
  },
  {
   "cell_type": "markdown",
   "id": "a69fc245-1fc6-4b4d-a7c5-a1e0cfbab883",
   "metadata": {},
   "source": [
    "To add data to a table the INSERT command is used. The syntax of the INSERT command is given below:"
   ]
  },
  {
   "cell_type": "code",
   "execution_count": null,
   "id": "4fa429c7-3194-4ab3-8d41-c71410d80f4d",
   "metadata": {},
   "outputs": [],
   "source": [
    "INSERT into table-name values (data, data …)"
   ]
  },
  {
   "cell_type": "code",
   "execution_count": null,
   "id": "fbd3162c-6ef2-425b-9f9b-34b1825e2651",
   "metadata": {},
   "outputs": [],
   "source": [
    "#UPDATE"
   ]
  },
  {
   "cell_type": "markdown",
   "id": "6628cb5c-d1bf-4c77-a9c6-407143e4977b",
   "metadata": {},
   "source": [
    "To update a table or row or column in the table we use the update command."
   ]
  },
  {
   "cell_type": "code",
   "execution_count": null,
   "id": "78899e9d-ed8a-4e08-a765-5c339d6942a8",
   "metadata": {},
   "outputs": [],
   "source": [
    "Update table-name set column-name = value where condition;"
   ]
  },
  {
   "cell_type": "code",
   "execution_count": null,
   "id": "8e61321d-8f1c-4551-8e63-afa8e6a58955",
   "metadata": {},
   "outputs": [],
   "source": [
    "#DELETE"
   ]
  },
  {
   "cell_type": "markdown",
   "id": "8b6101af-f205-471b-b5da-0d8726849635",
   "metadata": {},
   "source": [
    "To delete a table row or some data from a table in the database the delete command is used.\n",
    "The syntax of delete command is as follows:"
   ]
  },
  {
   "cell_type": "code",
   "execution_count": null,
   "id": "666c55f8-cb3a-4d29-8ec4-bddbc562a084",
   "metadata": {},
   "outputs": [],
   "source": [
    "DELETE from table-name;"
   ]
  },
  {
   "cell_type": "code",
   "execution_count": null,
   "id": "a3cce6b0-d819-4bb8-a289-2e7221eb757f",
   "metadata": {},
   "outputs": [],
   "source": [
    "#4. What is DQL? Explain SELECT with an example."
   ]
  },
  {
   "cell_type": "markdown",
   "id": "c16eda21-1048-42ad-b232-89ac7bbc24cb",
   "metadata": {},
   "source": [
    "DQL statements are used for performing queries on the data within schema objects. \n",
    "The purpose of DQL commands is to get the schema relation based on the query passed to it."
   ]
  },
  {
   "cell_type": "code",
   "execution_count": null,
   "id": "71623945-0c27-4840-affe-559ae491c45f",
   "metadata": {},
   "outputs": [],
   "source": [
    "#SELECT"
   ]
  },
  {
   "cell_type": "markdown",
   "id": "d0b84339-a526-4031-8db8-a18ee600085a",
   "metadata": {},
   "source": [
    "An SQL SELECT statement retrieves records from a database table according to clauses \n",
    "(for example, FROM and WHERE) that specify criteria. The syntax is:"
   ]
  },
  {
   "cell_type": "code",
   "execution_count": null,
   "id": "4e8825b0-346a-45d1-848e-f297978aebfe",
   "metadata": {},
   "outputs": [],
   "source": [
    "SELECT column1, column2 FROM table1, table2 WHERE column2='value';"
   ]
  },
  {
   "cell_type": "code",
   "execution_count": null,
   "id": "092f2047-64a1-4870-9b27-17c2af48ee41",
   "metadata": {},
   "outputs": [],
   "source": [
    "#5. Explain Primary Key and Foreign Key."
   ]
  },
  {
   "cell_type": "markdown",
   "id": "254d2572-7499-40a5-9c83-f7f8f1567713",
   "metadata": {},
   "source": [
    "A primary key is used to ensure data in the specific column is unique. It uniquely identifies a record \n",
    "in the relational database table. Only one primary key is allowed in a table. \n",
    "It is a combination of UNIQUE and Not Null constraints. It does not allow NULL values. \n",
    "Its value cannot be deleted from the parent table. It constraint can be implicitly defined on the temporary tables.\n",
    "\n",
    "\n",
    "A foreign key is a column or group of columns in a relational database table that provides a link between \n",
    "data in two tables. It refers to the field in a table which is the primary key of another table. \n",
    "More than one foreign key are allowed in a table. It can contain duplicate values and a table in a \n",
    "relational database. It can also contain NULL values. Its value can be deleted from the child table. \n",
    "It constraint cannot be defined on the local or global temporary tables."
   ]
  },
  {
   "cell_type": "code",
   "execution_count": null,
   "id": "d4e8e1a6-465a-46b8-86e3-953fdd48d736",
   "metadata": {},
   "outputs": [],
   "source": [
    "#6. Write a python code to connect MySQL to python. Explain the cursor() and execute() method."
   ]
  },
  {
   "cell_type": "code",
   "execution_count": null,
   "id": "5fbf2a2d-c7ab-4e84-913f-3ca2af37178b",
   "metadata": {},
   "outputs": [],
   "source": [
    "# First we have to install mysql.connector by using pip\n",
    "import mysql.connector\n",
    "\n",
    "mydb = mysql.connector.connect(\n",
    "  host=\"localhost\",\n",
    "  user=\"username\",\n",
    "  password=\"password\"\n",
    ")\n",
    "\n",
    "print(mydb)"
   ]
  },
  {
   "cell_type": "markdown",
   "id": "16b2ce78-a362-45a4-a871-a2486591ba5e",
   "metadata": {},
   "source": [
    "In SQL procedures, a cursor make it possible to define a result set (a set of data rows) and \n",
    "perform complex logic on a row by row basis. By using the same mechanics, an SQL procedure can also \n",
    "define a result set and return it directly to the caller of the SQL procedure or to a client application. \n",
    "A cursor can be viewed as a pointer to one row in a set of rows. The cursor can only reference one row at a time,\n",
    "but can move to other rows of the result set as needed.\n",
    "\n",
    "The Execute method executes the query, SQL statement or procedure specified in the CommandText property \n",
    "of the Command object."
   ]
  },
  {
   "cell_type": "code",
   "execution_count": null,
   "id": "7f9d14d5-34a7-40aa-9b99-3f6cc683988b",
   "metadata": {},
   "outputs": [],
   "source": [
    "#7. Give the order of execution of SQL clauses in an SQL query."
   ]
  },
  {
   "cell_type": "markdown",
   "id": "090c9289-a099-4949-8c25-29606ff711f3",
   "metadata": {},
   "source": [
    "1. FROM - Tables are joined to get the base data.\n",
    "\n",
    "2. WHERE - The base data is filtered.\n",
    "\n",
    "3. GROUP BY - The filtered base data is grouped.\n",
    "\n",
    "4. HAVING - The grouped base data is filtered.\n",
    "\n",
    "5. SELECT - The final data is returned.\n",
    "\n",
    "6. ORDER BY - The final data is sorted.\n",
    "\n",
    "7. LIMIT - The returned data is limited to row count."
   ]
  }
 ],
 "metadata": {
  "kernelspec": {
   "display_name": "Python 3 (ipykernel)",
   "language": "python",
   "name": "python3"
  },
  "language_info": {
   "codemirror_mode": {
    "name": "ipython",
    "version": 3
   },
   "file_extension": ".py",
   "mimetype": "text/x-python",
   "name": "python",
   "nbconvert_exporter": "python",
   "pygments_lexer": "ipython3",
   "version": "3.10.8"
  }
 },
 "nbformat": 4,
 "nbformat_minor": 5
}
