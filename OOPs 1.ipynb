{
 "cells": [
  {
   "cell_type": "code",
   "execution_count": null,
   "id": "38d5366b-019a-4580-9bf7-2a9ec4d314f9",
   "metadata": {},
   "outputs": [],
   "source": [
    "#1. Create a vehicle class with an init method having instance variables as name_of_vehicle, max_speed and average_of_vehicle."
   ]
  },
  {
   "cell_type": "code",
   "execution_count": 10,
   "id": "fcb309b5-fe10-4fc5-b4e8-8e76cca5e581",
   "metadata": {},
   "outputs": [],
   "source": [
    "class vehicle: \n",
    "    def __init__(self, name_of_vehicle, max_speed, average_of_vehicle):\n",
    "        self.name_of_vehicle = name_of_vehicle\n",
    "        self.max_speed = max_speed \n",
    "        self.average_of = average_of_vehicle "
   ]
  },
  {
   "cell_type": "code",
   "execution_count": null,
   "id": "33c5a67b-d720-4f24-a1b1-49044bb6cfb9",
   "metadata": {},
   "outputs": [],
   "source": [
    "#2. Create a child class car from the vehicle class created in Que 1, which will inherit the vehicle class. \n",
    "#Create a method named seating_capacity which takes capacity as an argument and returns the name of the vehicle and its seating capacity."
   ]
  },
  {
   "cell_type": "code",
   "execution_count": 17,
   "id": "6bca7e57-e965-4169-97f5-cd030c8aeb30",
   "metadata": {},
   "outputs": [
    {
     "data": {
      "text/plain": [
       "('Toyota', 5)"
      ]
     },
     "execution_count": 17,
     "metadata": {},
     "output_type": "execute_result"
    }
   ],
   "source": [
    "class car(vehicle):\n",
    "    def seating_capacity(self, capacity): \n",
    "        return self.name_of_vehicle, capacity \n",
    "child_obj = car(\"Toyota\", 160, 23) \n",
    "child_obj.seating_capacity(5) "
   ]
  },
  {
   "cell_type": "code",
   "execution_count": null,
   "id": "7b02d17a-5c68-41d9-ade9-1f20860025f6",
   "metadata": {},
   "outputs": [],
   "source": [
    "#3. What is multiple inheritance? Write a python code to demonstrate multiple inheritance."
   ]
  },
  {
   "cell_type": "code",
   "execution_count": null,
   "id": "87402967-242d-41e5-8274-a4b222080e7d",
   "metadata": {},
   "outputs": [],
   "source": [
    "Multiple Inheritance:\n",
    "\"\"\"Multiple level inheritance enables one derived class to inherit properties from more than one base class.\"\"\""
   ]
  },
  {
   "cell_type": "code",
   "execution_count": 23,
   "id": "4528a107-34f2-4627-b8f1-42035a3bc2cc",
   "metadata": {},
   "outputs": [
    {
     "name": "stdout",
     "output_type": "stream",
     "text": [
      "Father : Faiz\n",
      "Mother : Mahim\n"
     ]
    }
   ],
   "source": [
    "class Mother:\n",
    "    mothername = \"\"\t\n",
    "    def mother(self):\n",
    "        print(self.mothername)\n",
    "class Father:\n",
    "\tfathername = \"\"\n",
    "\tdef father(self):\n",
    "\t\tprint(self.fathername)\n",
    "class Son(Mother, Father):\n",
    "\tdef parents(self):\n",
    "\t\tprint(\"Father :\", self.fathername)\n",
    "\t\tprint(\"Mother :\", self.mothername)\n",
    "s1 = Son()\n",
    "s1.fathername = \"Faiz\"\n",
    "s1.mothername = \"Mahim\"\n",
    "s1.parents()"
   ]
  },
  {
   "cell_type": "code",
   "execution_count": null,
   "id": "cfd2ea85-ff24-451f-b7cd-7a80c61d848e",
   "metadata": {},
   "outputs": [],
   "source": [
    "#4. What are getter and setter in python? Create a class and create a getter and a setter method in this class."
   ]
  },
  {
   "cell_type": "code",
   "execution_count": null,
   "id": "2a5d4adc-a433-4d20-87a5-5b01b1a06816",
   "metadata": {},
   "outputs": [],
   "source": [
    "\"\"\"\n",
    "• Getter: A method that allows us to access an attribute in a given class.\n",
    "• Setter: A method that allows us to set or mutate the value of an attribute in a class.\n",
    "\"\"\""
   ]
  },
  {
   "cell_type": "code",
   "execution_count": 25,
   "id": "776f37e4-6656-47e4-abe0-34d18306015b",
   "metadata": {},
   "outputs": [
    {
     "name": "stdout",
     "output_type": "stream",
     "text": [
      "21\n"
     ]
    }
   ],
   "source": [
    "class stats:\n",
    "    def __init__(self, age = 0):\n",
    "         self._age = age\n",
    "      \n",
    "    # getter method\n",
    "    def get_age(self):\n",
    "        return self._age\n",
    "      \n",
    "    # setter method\n",
    "    def set_age(self, x):\n",
    "        self._age = x\n",
    "madi = stats()\n",
    "# setting the age using setter\n",
    "madi.set_age(21)\n",
    "  \n",
    "# retrieving age using getter\n",
    "print(madi.get_age()) "
   ]
  },
  {
   "cell_type": "code",
   "execution_count": null,
   "id": "5a682748-9da3-4d54-b1e6-58dc131a8de3",
   "metadata": {},
   "outputs": [],
   "source": [
    "#5. What is method overriding in python? Write a python code to demonstrate method overriding."
   ]
  },
  {
   "cell_type": "code",
   "execution_count": null,
   "id": "f183284f-24d0-4ee9-9ede-9a8f6102ac12",
   "metadata": {},
   "outputs": [],
   "source": [
    "\"\"\"\n",
    "• In this, the specific implementation of the method that is already provided by the parent class is provided by the child class. \n",
    "• It is used to change the behavior of existing methods and there is a need for at least two classes for method overriding.\n",
    "• In method overriding, inheritance is always required as it is done between parent class(superclass) and child class (child class) methods.\n",
    "\"\"\""
   ]
  },
  {
   "cell_type": "code",
   "execution_count": 27,
   "id": "f30495f1-217e-4a35-af7a-d3240477d0f2",
   "metadata": {},
   "outputs": [
    {
     "name": "stdout",
     "output_type": "stream",
     "text": [
      "This message is from Student.\n",
      "This message is from Statistics Student.\n"
     ]
    }
   ],
   "source": [
    "class Student:  \n",
    "    def message(self):\n",
    "        print('This message is from Student.')\n",
    "\n",
    "class Statistics(Student):\n",
    "    def message(self):\n",
    "        print('This message is from Statistics Student.')\n",
    "stu = Student()\n",
    "stu.message()\n",
    "stats = Statistics()\n",
    "stats.message()"
   ]
  }
 ],
 "metadata": {
  "kernelspec": {
   "display_name": "Python 3 (ipykernel)",
   "language": "python",
   "name": "python3"
  },
  "language_info": {
   "codemirror_mode": {
    "name": "ipython",
    "version": 3
   },
   "file_extension": ".py",
   "mimetype": "text/x-python",
   "name": "python",
   "nbconvert_exporter": "python",
   "pygments_lexer": "ipython3",
   "version": "3.10.8"
  }
 },
 "nbformat": 4,
 "nbformat_minor": 5
}
