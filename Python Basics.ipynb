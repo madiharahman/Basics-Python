{
 "cells": [
  {
   "cell_type": "code",
   "execution_count": null,
   "id": "33dbf87a-d9d8-42e8-9663-254cdffecded",
   "metadata": {},
   "outputs": [],
   "source": [
    "#1. Who developed Python Programming Language?"
   ]
  },
  {
   "cell_type": "code",
   "execution_count": null,
   "id": "f288a6e2-dfdb-4dcf-b87b-806fd34979ae",
   "metadata": {},
   "outputs": [],
   "source": [
    "#Guido Van Rossum"
   ]
  },
  {
   "cell_type": "code",
   "execution_count": null,
   "id": "d8294650-bad8-481d-ba32-594a86cc53a0",
   "metadata": {},
   "outputs": [],
   "source": [
    "#2. Which type of programming does Python support?"
   ]
  },
  {
   "cell_type": "code",
   "execution_count": null,
   "id": "edd5bf53-d067-43d3-91dc-e9992c8e3c6a",
   "metadata": {},
   "outputs": [],
   "source": [
    "#Object-oriented programming, \n",
    "#Structured programming,\n",
    "#Functional programming"
   ]
  },
  {
   "cell_type": "code",
   "execution_count": null,
   "id": "0fb4a4a0-2502-4df4-9741-088c429c8842",
   "metadata": {},
   "outputs": [],
   "source": [
    "#3. Is Python case sensitive when dealing with identifiers?"
   ]
  },
  {
   "cell_type": "code",
   "execution_count": null,
   "id": "1dc6e459-c3f3-4e1c-9269-a4afb5656f8f",
   "metadata": {},
   "outputs": [],
   "source": [
    "#Yes!"
   ]
  },
  {
   "cell_type": "code",
   "execution_count": null,
   "id": "04118d72-7395-4d97-b6de-6f085f920e75",
   "metadata": {},
   "outputs": [],
   "source": [
    "#4. What is the correct extension of Python file?"
   ]
  },
  {
   "cell_type": "code",
   "execution_count": null,
   "id": "6617e874-7e49-4112-be66-2d8632f8b320",
   "metadata": {},
   "outputs": [],
   "source": [
    "#.py"
   ]
  },
  {
   "cell_type": "code",
   "execution_count": null,
   "id": "08a73665-1785-4a91-b3ea-51c5a1bb287d",
   "metadata": {},
   "outputs": [],
   "source": [
    "#5. Is Python code compiled or interpreted?"
   ]
  },
  {
   "cell_type": "code",
   "execution_count": null,
   "id": "9f7aac27-0f2d-449e-86b4-ec94d2b12c4b",
   "metadata": {},
   "outputs": [],
   "source": [
    "#Interpreted"
   ]
  },
  {
   "cell_type": "code",
   "execution_count": null,
   "id": "2c347674-2073-4d4c-afc1-be6d9a95dcff",
   "metadata": {},
   "outputs": [],
   "source": [
    "#6.Name a few blocks of code used to define in Python Language?"
   ]
  },
  {
   "cell_type": "code",
   "execution_count": null,
   "id": "af6e3623-7b8a-4ccf-9362-7b2dacf8141c",
   "metadata": {},
   "outputs": [],
   "source": [
    "#Indentation "
   ]
  },
  {
   "cell_type": "code",
   "execution_count": null,
   "id": "2fbcc3a6-0975-4a84-9b93-4a4814e45961",
   "metadata": {},
   "outputs": [],
   "source": [
    "#7. State a character used to give single-line comments in Python?"
   ]
  },
  {
   "cell_type": "code",
   "execution_count": null,
   "id": "d832776e-3417-406b-97ba-575bec2616b7",
   "metadata": {},
   "outputs": [],
   "source": [
    "##"
   ]
  },
  {
   "cell_type": "code",
   "execution_count": null,
   "id": "21776e26-71cf-49b9-aab9-2486ea31a0d2",
   "metadata": {},
   "outputs": [],
   "source": [
    "#8. Mention functions which can help us to find the version of python that we are currently working on?"
   ]
  },
  {
   "cell_type": "code",
   "execution_count": null,
   "id": "7e9793ba-3594-4d10-980b-55e7680eca53",
   "metadata": {},
   "outputs": [],
   "source": [
    "#sys.version"
   ]
  },
  {
   "cell_type": "code",
   "execution_count": null,
   "id": "eba331fb-a1bc-443d-99bd-072413458429",
   "metadata": {},
   "outputs": [],
   "source": [
    "#9. Python supports the creation of anonymous functions at run time, using a construct called"
   ]
  },
  {
   "cell_type": "code",
   "execution_count": null,
   "id": "7c2e213e-8c12-49bb-ad13-4f1a77f7e841",
   "metadata": {},
   "outputs": [],
   "source": [
    "#lambda"
   ]
  },
  {
   "cell_type": "code",
   "execution_count": null,
   "id": "97cca4a0-eb01-43a2-bd98-903bf1fd8226",
   "metadata": {},
   "outputs": [],
   "source": [
    "#10. What does pip stand for?"
   ]
  },
  {
   "cell_type": "code",
   "execution_count": null,
   "id": "619ea3ba-37a4-4153-8b52-b8952366cf27",
   "metadata": {},
   "outputs": [],
   "source": [
    "#Preferred Installer program"
   ]
  },
  {
   "cell_type": "code",
   "execution_count": null,
   "id": "866b624b-30a0-4d6a-baa8-2b84814d2b85",
   "metadata": {},
   "outputs": [],
   "source": [
    "#11. Mention a few built-in functions in Python?"
   ]
  },
  {
   "cell_type": "code",
   "execution_count": null,
   "id": "426a46c2-3dd9-4f2c-aa54-6eb64187ddfa",
   "metadata": {},
   "outputs": [],
   "source": [
    "#print(), int,(), float(), str(), input(), len(), type(), dict(), list(), set(), tuple(), bool() and many more."
   ]
  },
  {
   "cell_type": "code",
   "execution_count": null,
   "id": "9b5d6620-f059-487d-ba74-9eaf25d6bd12",
   "metadata": {},
   "outputs": [],
   "source": [
    "#12. What is the maximum possible length of an identifier in Python?"
   ]
  },
  {
   "cell_type": "code",
   "execution_count": null,
   "id": "5d2a5d9c-d83c-4dd8-9f97-b6704587dfc6",
   "metadata": {},
   "outputs": [],
   "source": [
    "#79 characters"
   ]
  },
  {
   "cell_type": "code",
   "execution_count": null,
   "id": "dc379b68-366d-452b-9d0a-b52b8c8ad75a",
   "metadata": {},
   "outputs": [],
   "source": [
    "#13. What are the benefits of using Python?"
   ]
  },
  {
   "cell_type": "code",
   "execution_count": null,
   "id": "416a162f-51b5-40c4-920e-7c7c01853e42",
   "metadata": {},
   "outputs": [],
   "source": [
    "#Wide range of use \n",
    "#Easy to use, i.e. Write less, do more \n",
    "#Wide range of libraries \n",
    "#Portability\n",
    "#Strong peer support "
   ]
  },
  {
   "cell_type": "code",
   "execution_count": null,
   "id": "5f4e8687-e0b3-429a-b704-2d7bd51f2495",
   "metadata": {},
   "outputs": [],
   "source": [
    "#14. How is memory managed in Python?"
   ]
  },
  {
   "cell_type": "code",
   "execution_count": null,
   "id": "078cb5f3-87d6-4101-adf1-b6833b63792e",
   "metadata": {},
   "outputs": [],
   "source": [
    "#By python private heap space \n",
    "#Objects and data structures are located in a private heap space \n",
    "#Programmers doesn't have access to private heap \n",
    "#Python memory manager is responsible for the allocation of Python private heap space\n",
    "#Memory for Python heap space is made available by Python's in-built garbage collector \n",
    "#It recycles and frees up all the unused memory"
   ]
  },
  {
   "cell_type": "code",
   "execution_count": null,
   "id": "052f6879-433c-4407-bb04-3db3c7458926",
   "metadata": {},
   "outputs": [],
   "source": [
    "#15. How to install Python on Windows and set path variables?"
   ]
  },
  {
   "cell_type": "code",
   "execution_count": null,
   "id": "2ff3e182-24db-4d8e-a9db-3a7d60035989",
   "metadata": {},
   "outputs": [],
   "source": [
    "##To install PYTHON\n",
    "#Open the official Python website in your web browser. \n",
    "#Navigate to the Downloads tab for Windows.\n",
    "#Choose the latest Python 3 release.\n",
    "#Click on the link to download Windows x86 executable if using a 32-bit installer \n",
    "#and 64-bit system, then download Windows x86-64 executable installer.\n",
    "##To SET PATH VARIABLE \n",
    "#My Computer > Properties > Advanced System Settings > Environmental Variables > Edit\n",
    "#Add python's path separated by semicolons"
   ]
  },
  {
   "cell_type": "code",
   "execution_count": null,
   "id": "634502c9-3d24-4cb3-99b3-287e28738253",
   "metadata": {},
   "outputs": [],
   "source": [
    "#16. Is indentation required in Python?"
   ]
  },
  {
   "cell_type": "code",
   "execution_count": null,
   "id": "8505fdc2-c53d-4eff-890a-690bd15db58c",
   "metadata": {},
   "outputs": [],
   "source": [
    "#Yes!"
   ]
  }
 ],
 "metadata": {
  "kernelspec": {
   "display_name": "Python 3 (ipykernel)",
   "language": "python",
   "name": "python3"
  },
  "language_info": {
   "codemirror_mode": {
    "name": "ipython",
    "version": 3
   },
   "file_extension": ".py",
   "mimetype": "text/x-python",
   "name": "python",
   "nbconvert_exporter": "python",
   "pygments_lexer": "ipython3",
   "version": "3.10.8"
  }
 },
 "nbformat": 4,
 "nbformat_minor": 5
}
