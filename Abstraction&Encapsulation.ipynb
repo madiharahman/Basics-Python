{
 "cells": [
  {
   "cell_type": "code",
   "execution_count": null,
   "id": "9272c9ef-998f-4d66-91f5-2f099c32e470",
   "metadata": {},
   "outputs": [],
   "source": [
    "#1. What is Abstraction in OOPs? Explain with an example."
   ]
  },
  {
   "cell_type": "code",
   "execution_count": null,
   "id": "aaee835d-c547-49fc-b886-c3bfdbfa5210",
   "metadata": {},
   "outputs": [],
   "source": [
    "\"\"\"\n",
    "•It hides the unnecessary code details from the user. \n",
    "•Abstraction is used to hide internal details and show only functionalities.\n",
    "•Also, when we do not want to give out sensitive parts of our code implementation and this is where data abstraction came.\n",
    "•Data Abstraction in Python can be achieved through creating abstract classes.\n",
    "\"\"\"\n",
    "\n",
    "#Example :-\n",
    "\"\"\"\n",
    "We all use smartphone and very much familiar with its functions such as camera, voice-recorder, call-dialing, etc., \n",
    "but we don't know how these operations are working in the background.\n",
    "Similarly We don't know the code behind clicking the Whatsapp app and how we are into it. The only thing we need to know is how to use Whatsapp.\n",
    "\"\"\""
   ]
  },
  {
   "cell_type": "code",
   "execution_count": null,
   "id": "25cec4fd-a152-4596-b18e-ecdcf8ab6603",
   "metadata": {},
   "outputs": [],
   "source": [
    "#2. Differentiate between Abstraction and Encapsulation. Explain with an example."
   ]
  },
  {
   "cell_type": "code",
   "execution_count": null,
   "id": "c8a9fe52-4907-400e-b1a9-f478b64fd8c3",
   "metadata": {},
   "outputs": [],
   "source": [
    "\"\"\"\n",
    "•Abstraction shows only useful data by providing the most necessary details, whereas Encapsulation wraps code and data for necessary information.\n",
    "•Abstraction is focused mainly on what should be done, while Encapsulation is focused on how it should be done.\n",
    "•Abstraction hides complexity by giving us more abstract picture, while Encapsulation hides internal work so that we can change it later.\n",
    "•Abstraction helps us to partition the program into many independent portions, whereas Encapsulation is easy to change with new requirements.\n",
    "•Abstraction solves problems at the design level while Encapsulation solves problems at the implementation level.\n",
    "•Abstraction hides the irrelevant details found in the code, whereas Encapsulation helps developers to organize the entire code easily.\n",
    "\"\"\"\n",
    "\n",
    "#Example of Abstraction \n",
    "\"\"\"\n",
    "Suppose we want to create a banking application and we are asked to collect all the information about our customer.\n",
    "There are chances that we will come up with the following information about the customer.\n",
    "like full name, address, contact no, tax info, fav food, colour, movie, actor.\n",
    "But, not all of the above information is required to create a banking application.\n",
    "So, we need to select only the useful information for our banking application from that pool.\n",
    "Data like name, address, tax information, etc. make sense for a banking application.\n",
    "Since we have fetched/removed/selected the customer information from a larger pool, the process is referred to as Abstraction.\n",
    "However, the same information once extracted can be used for a wide range of applications.\n",
    "For instance, we can use the same data for hospital application, job portal application, a Government database, etc. with little or no modification. \n",
    "Hence, it becomes our Master Data. This is an advantage of Abstraction.\n",
    "\"\"\"\n",
    "\n",
    "#Example of Encapsulation \n",
    "\"\"\"\n",
    "Let’s take an example of mobile device. With the help of mobile devices, we can perform various functions like taking a picture,\n",
    "sending a message, recording video/ audio, access the web and much more.\n",
    "The features mentioned above are functionalities of most of the smartphone.\n",
    "However, we don’t need to understand the internal functioning details of those features before using this program. \n",
    "for example, we don’t need to know how our camera calculates gamma correction or identifies a human face in an image.\n",
    "We just need to learn the software interface. This is encapsulation.\n",
    "\"\"\""
   ]
  },
  {
   "cell_type": "code",
   "execution_count": null,
   "id": "1c385b05-7067-4522-896c-3d6c2b3792f4",
   "metadata": {},
   "outputs": [],
   "source": [
    "#3. What is abc module in python? Why is it used?"
   ]
  },
  {
   "cell_type": "code",
   "execution_count": null,
   "id": "7e11de4a-2b70-4014-b387-bd6ab26fd44b",
   "metadata": {},
   "outputs": [],
   "source": [
    "\"\"\"\n",
    "In Python, abstract base classes (abc module) provide a blueprint for concrete classes. They don’t contain implementation.\n",
    "Instead, they provide an interface and make sure that derived concrete classes are properly implemented. Abstract base classes cannot be instantiated.\n",
    "Instead, they are inherited and extended by the concrete subclasses. \n",
    "Also, their subclasses are derived from a specific abstract base class and must implement the methods \n",
    "and properties provided in that abstract base class.\n",
    "The main goal of the abstract base class is to provide a standardized way to test whether an object adheres to a given specification.\n",
    "It can also prevent any attempt to instantiate a subclass that doesn’t override a particular method in the superclass.\n",
    "And finally, using an abstract class, a class can derive identity from another class without any object inheritance.\n",
    "\"\"\""
   ]
  },
  {
   "cell_type": "code",
   "execution_count": null,
   "id": "45ced57d-ed0d-4c42-97d1-87ecdac2f153",
   "metadata": {},
   "outputs": [],
   "source": [
    "#4. How can we achieve data abstraction?"
   ]
  },
  {
   "cell_type": "code",
   "execution_count": null,
   "id": "215f8d3c-7e49-4d0e-a717-344d8ac5d474",
   "metadata": {},
   "outputs": [],
   "source": [
    "\"\"\"\n",
    "We can achieve abstraction by incorporating abstract classes and methods.\n",
    "Any class that contains abstract method(s) is called an abstract class. Abstract methods do not include any implementations – \n",
    "they are always defined and implemented as part of the methods of the sub-classes inherited from the abstract class.\n",
    "\"\"\""
   ]
  },
  {
   "cell_type": "code",
   "execution_count": null,
   "id": "886a21fc-4666-401f-a4ed-facfa0d05604",
   "metadata": {},
   "outputs": [],
   "source": [
    "#5. Can we create an instance of an abstract class? Explain your answer."
   ]
  },
  {
   "cell_type": "code",
   "execution_count": null,
   "id": "0ab60347-908e-401f-bd05-d0c380c79721",
   "metadata": {},
   "outputs": [],
   "source": [
    "\"\"\"\n",
    "Abstract classes are not complete, as they may have some methods that are not defined. \n",
    "So we cannot create an instance or object of an abstract class in Python.\n",
    "If we try to instantiate the abstract class, it raises an error.\n",
    "An Abstract Class is a class that cannot be implemented on its own, and entails subclasses for the purpose of employing\n",
    "the abstract class to access the abstract methods. \n",
    "Here comes the concept of inheritance for the abstract class for creating the object from the base class. \n",
    "\"\"\""
   ]
  }
 ],
 "metadata": {
  "kernelspec": {
   "display_name": "Python 3 (ipykernel)",
   "language": "python",
   "name": "python3"
  },
  "language_info": {
   "codemirror_mode": {
    "name": "ipython",
    "version": 3
   },
   "file_extension": ".py",
   "mimetype": "text/x-python",
   "name": "python",
   "nbconvert_exporter": "python",
   "pygments_lexer": "ipython3",
   "version": "3.10.8"
  }
 },
 "nbformat": 4,
 "nbformat_minor": 5
}
