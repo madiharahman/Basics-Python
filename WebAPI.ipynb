{
 "cells": [
  {
   "cell_type": "code",
   "execution_count": null,
   "id": "ee89c219-5497-42f2-b217-4377c55501ce",
   "metadata": {},
   "outputs": [],
   "source": [
    "#1. What is an API? Give an example, where an API is used in real life."
   ]
  },
  {
   "cell_type": "markdown",
   "id": "0624e0be-b832-4a91-b996-047f157c92f2",
   "metadata": {},
   "source": [
    "APIs are mechanisms that enable two software components to communicate with each other using a set of definitions and protocols. For example, the weather bureau’s software system contains daily weather data. The weather app on our phone “talks” to this system via APIs and shows us daily weather updates on our phone."
   ]
  },
  {
   "cell_type": "code",
   "execution_count": null,
   "id": "3a9168c4-2419-4d8e-b320-28e62b9526ff",
   "metadata": {},
   "outputs": [],
   "source": [
    "#2. Give advantages and disadvantages of using API."
   ]
  },
  {
   "cell_type": "markdown",
   "id": "31b223d5-7853-4197-af15-6421aa4af0fc",
   "metadata": {},
   "source": [
    "Advantages--\n",
    "\n",
    "1. Applications: Access to APIs ensures more flexibility in information-transfer processes.\n",
    "\n",
    "2. Reach: APIs let you create layers in apps in order to distribute information to different audiences.\n",
    "\n",
    "3. Customization: Furthermore, it can serve as a solution to create different experiences for users, letting protocols, functions, and commands be adapted according to specific demands.\n",
    "\n",
    "4. Efficiency: When you have content that is automatically published and made available on different channels simultaneously, APIs allow for more efficient data distribution.\n",
    "\n",
    "5. Adaptability: One of the greatest benefits of APIs is the ability it has to adapt to changes through data migration and flexibility of services.\n",
    "\n",
    "Disadvantages--\n",
    "\n",
    "    As a single point of entry, an API is a gateway and can become a hacker's primary target. Once the API is compromised, all other applications and systems become vulnerable."
   ]
  },
  {
   "cell_type": "code",
   "execution_count": null,
   "id": "7cadcc73-db9a-4e34-aa6e-585246159c05",
   "metadata": {},
   "outputs": [],
   "source": [
    "#3. What is a Web API? Differentiate between API and Web API."
   ]
  },
  {
   "cell_type": "markdown",
   "id": "a6a59ef0-acbd-41d4-93a6-32725062b77b",
   "metadata": {},
   "source": [
    "Web API is an API as the name suggests, it can be accessed over the web using the HTTP protocol. It is a framework that helps you to create and develop HTTP based RESTFUL services. The web API can be developed by using different technologies such as java, ASP.NET, etc. Web API is used in either a web server or a web browser. Basically Web API is a web development concept. It is limited to Web Application’s client-side and also it does not include a web server or web browser details. If an application is to be used on a distributed system and to provide services on different devices like laptops, mobiles, etc then web API services are used. Web API is the enhanced form of the web application.\n",
    "Web APIs are just subset of APIs.\n",
    "Web APIs use http while APIs use smtp, tcp, http.\n",
    "\n",
    "A Web API services are preferable over other services to use with a native application that does not support SOAP but require web services.\n",
    "\n",
    "For creating resource-oriented services, the web API services are the best to choose. By using HTTP or restful service, these services are established.\n",
    "\n",
    "If you want good performance and fast development of services, the web API services are very helpful.\n",
    "\n",
    "For developing light weighted and maintainable web services, web API services are really helpful to develop that service. It supports any text pattern like JSON, XML etc.\n",
    "\n",
    "The devices that have tight bandwidth or having a limitation in bandwidth, then the Web API services are the best for those devices."
   ]
  },
  {
   "cell_type": "code",
   "execution_count": null,
   "id": "c1790e30-c083-4de8-a8d7-37993a22f566",
   "metadata": {},
   "outputs": [],
   "source": [
    "#4. Explain REST and SOAP Architecture. Mention shortcomings of SOAP."
   ]
  },
  {
   "cell_type": "markdown",
   "id": "8c79dbac-49a7-461b-be87-0b3ff438187f",
   "metadata": {},
   "source": [
    "REST stands for REpresentational State Transfer and API stands for Application Program Interface. REST is a software architectural style that defines the set of rules to be used for creating web services. Web services which follow the REST architectural style are known as RESTful web services. It allows requesting systems to access and manipulate web resources by using a uniform and predefined set of rules. Interaction in REST based systems happen through Internet’s Hypertext Transfer Protocol (HTTP).\n",
    "\n",
    "A Restful system consists of a:\n",
    "\n",
    "1. client- who requests for the resources.\n",
    "\n",
    "2. server- who has the resources.\n",
    "\n",
    "Architectural Constraints of RESTful API: There are six architectural constraints which makes any web service are listed below:\n",
    "\n",
    "1. Uniform Interface\n",
    "\n",
    "2. Stateless\n",
    "\n",
    "3. Cacheable\n",
    "\n",
    "4. Client-Server\n",
    "\n",
    "5. Layered System\n",
    "\n",
    "6. Code on Demand\n",
    "\n",
    "SOAP is a protocol for the exchange of information in a distributed environment. SOAP messages are encoded as XML documents and can be exchanged using various underlying protocols.\n",
    "The SOAP web services architecture is based on interactions between three components: a service provider, a service requester, and an optional service registry.\n",
    "\n",
    "The shortcomings of SOAP are:\n",
    "\n",
    "1. Slow: SOAP uses XML format that must be parsed to be read. It defines many standards that must be followed while developing the SOAP applications. So it is slow and consumes more bandwidth and resource.\n",
    "\n",
    "2. WSDL dependent: SOAP uses WSDL and doesn't have any other mechanism to discover the service."
   ]
  },
  {
   "cell_type": "code",
   "execution_count": null,
   "id": "9d10eaa7-59fa-48bb-88e3-cc47c125790f",
   "metadata": {},
   "outputs": [],
   "source": [
    "#5. Differentiate between REST and SOAP."
   ]
  },
  {
   "cell_type": "markdown",
   "id": "948bcb6a-3932-443f-8c3d-e0c9d9b856a3",
   "metadata": {},
   "source": [
    "SOAP stands for Simple Object Access Protocol and REST stands for Representational State Transfer.\n",
    "\n",
    "Since SOAP is a protocol, it follows a strict standard to allow communication between the client and the server whereas REST is an architectural style that doesn’t follow any strict standard but follows six constraints defined by Roy Fielding in 2000. Those constraints are – Uniform Interface, Client-Server, Stateless, Cacheable, Layered System, Code on Demand.\n",
    "\n",
    "SOAP uses only XML for exchanging information in its message format whereas REST is not restricted to XML and its the choice of implementer which Media-Type to use like XML, JSON, Plain-text. Moreover, REST can use SOAP protocol but SOAP cannot use REST.\n",
    "\n",
    "On behalf of services interfaces to business logic, SOAP uses @WebService whereas REST instead of using interfaces uses URI like @Path.\n",
    "\n",
    "SOAP is difficult to implement and it requires more bandwidth whereas REST is easy to implement and requires less bandwidth such as smartphones.\n",
    "\n",
    "Benefits of SOAP over REST as SOAP has ACID compliance transaction. Some of the applications require transaction ability which is accepted by SOAP whereas REST lacks in it.\n",
    "\n",
    "On the basis of Security, SOAP has SSL( Secure Socket Layer) and WS-security whereas REST has SSL and HTTPS. In the case of Bank Account Password, Card Number, etc. SOAP is preferred over REST. The security issue is all about your application requirement, you have to build security on your own. It’s about what type of protocol you use.\n",
    "\n",
    "SOAP cannot make use of REST since SOAP is a protocol without any architectural pattern. REST can make use of SOAP because it is an architectural pattern having protocol."
   ]
  }
 ],
 "metadata": {
  "kernelspec": {
   "display_name": "Python 3 (ipykernel)",
   "language": "python",
   "name": "python3"
  },
  "language_info": {
   "codemirror_mode": {
    "name": "ipython",
    "version": 3
   },
   "file_extension": ".py",
   "mimetype": "text/x-python",
   "name": "python",
   "nbconvert_exporter": "python",
   "pygments_lexer": "ipython3",
   "version": "3.10.8"
  }
 },
 "nbformat": 4,
 "nbformat_minor": 5
}
