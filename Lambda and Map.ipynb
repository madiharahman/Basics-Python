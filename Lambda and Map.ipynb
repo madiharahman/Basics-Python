{
 "cells": [
  {
   "cell_type": "code",
   "execution_count": null,
   "id": "6dc1065e-f492-4d53-bb35-f4e3ba7d94bb",
   "metadata": {},
   "outputs": [],
   "source": [
    "#1. Create a python program to sort the given list of tuples based on integer value using a lambda function. \n",
    "#[('Sachin Tendulkar', 34357), ('Ricky Ponting', 27483), ('Jack Kallis', 25534), ('Virat Kohli', 24936)]"
   ]
  },
  {
   "cell_type": "code",
   "execution_count": 12,
   "id": "42c48a24-4405-4387-aeac-959afe6f630c",
   "metadata": {},
   "outputs": [],
   "source": [
    "list=[('Sachin Tendulkar', 34357), ('Ricky Ponting', 27483), ('Jack Kallis', 25534), ('Virat Kohli', 24936)]\n",
    "list.sort(key=lambda x:x[1], reverse=True)"
   ]
  },
  {
   "cell_type": "code",
   "execution_count": 13,
   "id": "b237cc00-6ba3-4e45-a7a0-269f43d394c4",
   "metadata": {},
   "outputs": [
    {
     "name": "stdout",
     "output_type": "stream",
     "text": [
      "[('Sachin Tendulkar', 34357), ('Ricky Ponting', 27483), ('Jack Kallis', 25534), ('Virat Kohli', 24936)]\n"
     ]
    }
   ],
   "source": [
    "print(list)"
   ]
  },
  {
   "cell_type": "code",
   "execution_count": null,
   "id": "151fe066-db87-4b81-8221-6bc430b515fd",
   "metadata": {},
   "outputs": [],
   "source": [
    "#2. Write a Python Program to find the squares of all the numbers in the given list of integers using lambda and map functions.\n",
    "#[1, 2, 3, 4, 5, 6, 7, 8, 9, 10]"
   ]
  },
  {
   "cell_type": "code",
   "execution_count": 1,
   "id": "d1a649db-f42f-49ff-a1b7-cb170344366f",
   "metadata": {},
   "outputs": [
    {
     "name": "stdout",
     "output_type": "stream",
     "text": [
      "[1, 4, 9, 16, 25, 36, 49, 64, 81, 100]\n"
     ]
    }
   ],
   "source": [
    "lists = [1, 2, 3, 4, 5, 6, 7, 8, 9, 10]\n",
    "list_sq = list(map(lambda x:x**2, lists))\n",
    "print(list_sq) "
   ]
  },
  {
   "cell_type": "code",
   "execution_count": null,
   "id": "2fa32458-7d05-405e-8ebd-08c13168d1f5",
   "metadata": {},
   "outputs": [],
   "source": [
    "#3. Write a python program to convert the given list of integers into a tuple of strings. Use map and lambda functions\n",
    "#Given String: [1, 2, 3, 4, 5, 6, 7, 8, 9, 10]\n",
    "#Expected output: ('1', '2', '3', '4', '5', '6', '7', '8', '9', '10')"
   ]
  },
  {
   "cell_type": "code",
   "execution_count": 24,
   "id": "531961b8-d580-41e1-8feb-0bf346f545eb",
   "metadata": {},
   "outputs": [
    {
     "name": "stdout",
     "output_type": "stream",
     "text": [
      "('1', '2', '3', '4', '5', '6', '7', '8', '9', '10')\n"
     ]
    }
   ],
   "source": [
    "string=[1,2,3,4,5,6,7,8,9,10]\n",
    "output=tuple(map(lambda x:str(x),string))\n",
    "print(output)             "
   ]
  },
  {
   "cell_type": "code",
   "execution_count": null,
   "id": "e30dd753-b48a-41ec-85d8-5e5ae0a7e354",
   "metadata": {},
   "outputs": [],
   "source": [
    "#4. Write a python program using reduce function to compute the product of a list containing numbers from 1 to 25."
   ]
  },
  {
   "cell_type": "code",
   "execution_count": 2,
   "id": "2fcd8811-c673-40ed-ae98-877920c6f366",
   "metadata": {},
   "outputs": [
    {
     "name": "stdout",
     "output_type": "stream",
     "text": [
      "15511210043330985984000000\n"
     ]
    }
   ],
   "source": [
    "from functools import reduce\n",
    "def product(x,y):\n",
    "    return x*y\n",
    "numbers=list(range(1,26))\n",
    "output=reduce(product,numbers)\n",
    "print(output)"
   ]
  },
  {
   "cell_type": "code",
   "execution_count": null,
   "id": "d7ed7bda-3772-48cd-945d-4f95fde37167",
   "metadata": {},
   "outputs": [],
   "source": [
    "#5. Write a python program to filter the numbers in a given list that are divisible by 2 and 3 using the filter function.\n",
    "#[2, 3, 6, 9, 27, 60, 90, 120, 55, 46]"
   ]
  },
  {
   "cell_type": "code",
   "execution_count": 2,
   "id": "23fff227-5a99-46c7-ab43-d28f9b2bbb22",
   "metadata": {},
   "outputs": [
    {
     "name": "stdout",
     "output_type": "stream",
     "text": [
      "[6, 60, 90, 120]\n"
     ]
    }
   ],
   "source": [
    "def divi(num):\n",
    "    if num % 2 == 0 and num % 3 == 0:\n",
    "        return True\n",
    "    else:\n",
    "        return False\n",
    "    \n",
    "num_filter = [2,3,6,9,27,60,90,120,55,46]\n",
    "output = list(filter(divi, num_filter))\n",
    "print(output)"
   ]
  },
  {
   "cell_type": "code",
   "execution_count": null,
   "id": "827936e1-98fc-415b-83fc-161c62a6e5b3",
   "metadata": {},
   "outputs": [],
   "source": [
    "#6. Write a python program to find palindromes in the given list of strings using lambda and filter function.\n",
    "#['python', 'php', 'aba', 'radar', 'level']"
   ]
  },
  {
   "cell_type": "code",
   "execution_count": 4,
   "id": "94c14c43-fdb9-4e42-935f-c358a7970c9d",
   "metadata": {},
   "outputs": [
    {
     "name": "stdout",
     "output_type": "stream",
     "text": [
      "['php', 'aba', 'radar', 'level']\n"
     ]
    }
   ],
   "source": [
    "palindrome=lambda s:s == s[::-1]\n",
    "string=['python','php','aba','radar','level']\n",
    "result=list(filter(palindrome,string))\n",
    "print(result)"
   ]
  }
 ],
 "metadata": {
  "kernelspec": {
   "display_name": "Python 3 (ipykernel)",
   "language": "python",
   "name": "python3"
  },
  "language_info": {
   "codemirror_mode": {
    "name": "ipython",
    "version": 3
   },
   "file_extension": ".py",
   "mimetype": "text/x-python",
   "name": "python",
   "nbconvert_exporter": "python",
   "pygments_lexer": "ipython3",
   "version": "3.10.8"
  }
 },
 "nbformat": 4,
 "nbformat_minor": 5
}
