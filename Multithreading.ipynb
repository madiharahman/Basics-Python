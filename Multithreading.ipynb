{
 "cells": [
  {
   "cell_type": "code",
   "execution_count": null,
   "id": "6facaffb-a336-4024-86ed-4e427b31920b",
   "metadata": {},
   "outputs": [],
   "source": [
    "#1.What is multithreading in python? Why is it used? Name the module used to handle threads in python."
   ]
  },
  {
   "cell_type": "code",
   "execution_count": null,
   "id": "57c524e4-961e-4c31-8672-5b6472d30c68",
   "metadata": {},
   "outputs": [],
   "source": [
    "\"\"\"\n",
    "Multithreading in Python refers to the concurrent execution of multiple threads within a single process.\n",
    "A thread is a lightweight subprocess that can be scheduled to run independently of the main program.\n",
    "Multithreading allows a program to perform multiple tasks simultaneously, which can lead to significant\n",
    "performance improvements in some cases.\n",
    "\n",
    "In Python, multithreading is often used to improve the responsiveness of graphical user interfaces\n",
    "(GUIs), to perform background tasks while the main program is running, and to speed up certain types\n",
    "of operations that can be parallelized.\n",
    "\n",
    "In Python, the module that is used to handle threads is called threading.\n",
    "\"\"\""
   ]
  },
  {
   "cell_type": "code",
   "execution_count": null,
   "id": "8f964f57-c188-4b0a-a150-963ad61b809d",
   "metadata": {},
   "outputs": [],
   "source": [
    "#2. Why threading module used? Write the use of the following functions:"
   ]
  },
  {
   "cell_type": "code",
   "execution_count": null,
   "id": "704135cc-4e2b-44c7-a4ef-79df9e6de8f7",
   "metadata": {},
   "outputs": [],
   "source": [
    "\"\"\"\n",
    "The threading module in Python is used for creating and managing threads in a program. It provides a\n",
    "high-level interface for creating, starting, and joining threads, as well as for synchronizing access to\n",
    "shared resources.\n",
    "\"\"\"\n",
    "\n",
    "#activeCount(): \n",
    "\"\"\"This function returns the number of currently active thread objects in the program. It\n",
    "can be used to monitor the number of threads in a program and to ensure that the program is not\n",
    "creating too many threads.\"\"\"\n",
    "#currentThread(): \n",
    "\"\"\"This function returns a reference to the currently executing thread object. It can be\n",
    "used to identify the current thread and to access information about the thread, such as its name and ID.\"\"\"\n",
    "#enumerate(): \n",
    "\"\"\"This function returns a list of all thread objects that are currently active in the program. It\n",
    "can be used to obtain a snapshot of the current state of the program&#39;s threads and to iterate over the\n",
    "thread objects to perform operations on them, such as joining or terminating them.\"\"\""
   ]
  },
  {
   "cell_type": "code",
   "execution_count": null,
   "id": "b99ee522-3bd7-4c37-8d94-a1568cbbb530",
   "metadata": {},
   "outputs": [],
   "source": [
    "#3. Explain the following functions:"
   ]
  },
  {
   "cell_type": "code",
   "execution_count": null,
   "id": "8a2d4f52-2c8a-4f87-b0d3-4919fbf8d42c",
   "metadata": {},
   "outputs": [],
   "source": [
    "#run(): \n",
    "\"\"\"This is a method that is called when a thread is started using the start() method. It is used to\n",
    "define the actions that the thread should perform when it is started. The run() method is typically\n",
    "overridden in a subclass of the Thread class to define the specific behavior of the thread.\"\"\"\n",
    "\n",
    "#start(): \n",
    "\"\"\"This method is used to start a new thread of execution. When the start() method is called, a\n",
    "new thread is created and the run() method of the thread is executed in a separate process. The start()\n",
    "method does not block the calling thread; instead, it returns immediately, allowing the caller to continue\n",
    "executing.\"\"\"\n",
    "\n",
    "#join(): \n",
    "\"\"\"This method is used to wait for a thread to finish its execution. When the join() method is called\n",
    "on a thread object, the calling thread blocks until the thread being joined completes its execution. The\n",
    "join() method can be used to ensure that all threads complete their execution before the program exits.\"\"\"\n",
    "\n",
    "#isAlive(): \n",
    "\"\"\"This method returns a Boolean value indicating whether a thread is currently executing or\n",
    "not. If the thread is still running, isAlive() returns True; otherwise, it returns False. This method can be\n",
    "used to determine the status of a thread and to take appropriate actions based on its state.\"\"\""
   ]
  },
  {
   "cell_type": "code",
   "execution_count": null,
   "id": "ae74b0f0-e5f4-4ce6-92d9-de8d48e02b65",
   "metadata": {},
   "outputs": [],
   "source": [
    "#4. Write a python program to create two threads. \n",
    "#Thread one must print the list of squares and thread two must print the list of cubes."
   ]
  },
  {
   "cell_type": "code",
   "execution_count": 10,
   "id": "a6450215-4223-4878-84e5-d67173f9f72b",
   "metadata": {},
   "outputs": [
    {
     "name": "stdout",
     "output_type": "stream",
     "text": [
      "[4, 9, 25, 36, 16, 9, 25, 49]\n",
      "[8, 27, 125, 216, 64, 27, 125, 343]\n"
     ]
    }
   ],
   "source": [
    "import threading \n",
    "results1 = [] \n",
    "results2 = [] #squares function \n",
    "def squares(number):\n",
    "    results1.append(number**2) #cubes function \n",
    "def cubes(number): \n",
    "    results2.append(number**3) #threadsfunction \n",
    "def threads(numbers_list, squares): \n",
    "    threads=[] \n",
    "    for i in range(len(numbers_list)):\n",
    "        t=threading.Thread(target = squares, args =(numbers_list[i],))\n",
    "        threads.append(t) \n",
    "        t.start() #main\n",
    "numbers_list=[2,3,5,6,4,3,5,7] \n",
    "thread1 = threads(numbers_list,squares) \n",
    "thread2 = threads(numbers_list,cubes) \n",
    "print(results1) \n",
    "print(results2)"
   ]
  },
  {
   "cell_type": "code",
   "execution_count": 11,
   "id": "457783cb-e021-4ccf-baaf-66ad3bf4e647",
   "metadata": {},
   "outputs": [],
   "source": [
    "#5. State advantages and disadvantages of multithreading."
   ]
  },
  {
   "cell_type": "code",
   "execution_count": null,
   "id": "70acedab-242a-43a2-9d21-fbfcfb941645",
   "metadata": {},
   "outputs": [],
   "source": [
    "#Advantages:\n",
    "\"\"\"\n",
    "Increased performance: \n",
    "Multithreading can lead to significant performance improvements for programs \n",
    "that perform many independent tasks, as it allows different parts of the program to execute \n",
    "simultaneously on different CPU cores.\n",
    "\n",
    "Responsiveness: \n",
    "Multithreading can make programs more responsive, as it allows them to continue executing while \n",
    "waiting for I/O or other blocking operations to complete.\n",
    "\n",
    "Resource sharing: \n",
    "Multithreading allows multiple threads to access shared resources, such as files or databases, \n",
    "without requiring complex coordination mechanisms.\n",
    "\n",
    "Modular design: \n",
    "Multithreading can make programs easier to design and implement by allowing different parts of the \n",
    "program to be executed in separate threads, making the program more modular and easier to maintain.\n",
    "\"\"\"\n",
    "\n",
    "#Disadvantages:\n",
    "\"\"\"\n",
    "Synchronization issues: \n",
    "Multithreading requires careful management of shared resources to avoidrace conditions and other \n",
    "synchronization issues that can lead to errors or incorrect behavior.\n",
    "\n",
    "Complexity: \n",
    "Multithreading can make programs more complex and harder to debug, as it introduces new sources of bugs \n",
    "and errors related to thread synchronization and communication.\n",
    "\n",
    "Overhead: \n",
    "Creating and managing threads requires additional resources, such as memory and CPU time, which can \n",
    "reduce the overall performance of the program if not managed carefully.\n",
    "\n",
    "Scalability issues: \n",
    "The benefits of multithreading may not scale linearly with the number of CPU cores available, \n",
    "as adding more threads may lead to diminishing returns or even reduce performance in some cases."
   ]
  },
  {
   "cell_type": "code",
   "execution_count": 12,
   "id": "5a60ed04-46db-42a1-b342-855c0405e43d",
   "metadata": {},
   "outputs": [],
   "source": [
    "#6. Explain deadlocks and race conditions."
   ]
  },
  {
   "cell_type": "code",
   "execution_count": null,
   "id": "0717286a-f82c-4e82-bb85-a83ec5f8f62c",
   "metadata": {},
   "outputs": [],
   "source": [
    "#Deadlock: \n",
    "\"\"\"\n",
    "A deadlock is a situation in which two or more threads are waiting for each other to release\n",
    "resources, resulting in a state where no thread can proceed. This can occur when two or more threads\n",
    "hold resources that the other thread needs to continue execution, resulting in a deadlock. Deadlocks\n",
    "can be difficult to detect and resolve, as they can involve complex interactions between threads and\n",
    "shared resources.\n",
    "\"\"\"\n",
    "\n",
    "#Race Condition: \n",
    "\"\"\"\n",
    "A race condition is a situation in which the outcome of a program depends on the\n",
    "order and timing of thread execution. Race conditions can occur when two or more threads access\n",
    "shared resources or modify shared data in an uncoordinated manner. This can lead to incorrect\n",
    "behavior or crashes, as the threads may overwrite each other 39s changes or make incorrect\n",
    "assumptions about the state of shared resources.\n",
    "\"\"\""
   ]
  },
  {
   "cell_type": "code",
   "execution_count": null,
   "id": "ca904ee7-872b-48c2-a495-2be95c39db0f",
   "metadata": {},
   "outputs": [],
   "source": []
  }
 ],
 "metadata": {
  "kernelspec": {
   "display_name": "Python 3 (ipykernel)",
   "language": "python",
   "name": "python3"
  },
  "language_info": {
   "codemirror_mode": {
    "name": "ipython",
    "version": 3
   },
   "file_extension": ".py",
   "mimetype": "text/x-python",
   "name": "python",
   "nbconvert_exporter": "python",
   "pygments_lexer": "ipython3",
   "version": "3.10.8"
  }
 },
 "nbformat": 4,
 "nbformat_minor": 5
}
