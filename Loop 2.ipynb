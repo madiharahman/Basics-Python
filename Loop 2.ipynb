{
 "cells": [
  {
   "cell_type": "code",
   "execution_count": null,
   "id": "389ab6c2-07d2-43d5-b3c7-a03cee19b844",
   "metadata": {},
   "outputs": [],
   "source": [
    "#1. Explain with an example each when to use a for loop and a while loop."
   ]
  },
  {
   "cell_type": "code",
   "execution_count": 5,
   "id": "d097c8ac-2eac-4879-9441-01bd5849f995",
   "metadata": {},
   "outputs": [
    {
     "name": "stdout",
     "output_type": "stream",
     "text": [
      "List : \n",
      "1\n",
      "2\n",
      "3\n",
      "4\n",
      "5\n"
     ]
    }
   ],
   "source": [
    "\"\"\"For loop\"\"\"\n",
    "#When the number of iterations is already known, for loop is used.\n",
    "#Example\n",
    "l=[1,2,3,4,5]\n",
    "print(\"List : \")\n",
    "for a in l:\n",
    "    print(a)"
   ]
  },
  {
   "cell_type": "code",
   "execution_count": 4,
   "id": "b7a8cb5e-24cd-4d7d-b9b5-55f4e6e4ee7e",
   "metadata": {},
   "outputs": [
    {
     "name": "stdout",
     "output_type": "stream",
     "text": [
      "1\n",
      "2\n",
      "3\n",
      "4\n",
      "5\n",
      "6\n",
      "7\n",
      "8\n",
      "9\n",
      "10\n"
     ]
    }
   ],
   "source": [
    "\"\"\"While loop\"\"\"\n",
    "#When the number of iterations is unknown, while loop is used. The statement is repeated until the boolean value is False.\n",
    "#Example\n",
    "i=1\n",
    "while i<=10:\n",
    "    print(i)\n",
    "    i+=1"
   ]
  },
  {
   "cell_type": "code",
   "execution_count": null,
   "id": "80714220-0c1b-4500-bb63-f5b78f056ed8",
   "metadata": {},
   "outputs": [],
   "source": [
    "#2. Write a python program to print the sum and product of the first 10 natural numbers using for and while loop. "
   ]
  },
  {
   "cell_type": "code",
   "execution_count": 16,
   "id": "478ae226-2457-49a8-ab60-9585ce5ece35",
   "metadata": {},
   "outputs": [],
   "source": [
    "list=[1,2,3,4,5,6,7,8,9,10]"
   ]
  },
  {
   "cell_type": "code",
   "execution_count": null,
   "id": "c7907a54-943a-47b6-9497-c609e8ed4a14",
   "metadata": {},
   "outputs": [],
   "source": [
    "\"\"\"Sum using for loop\"\"\""
   ]
  },
  {
   "cell_type": "code",
   "execution_count": 17,
   "id": "535ff143-331c-453e-863e-cd1581930300",
   "metadata": {},
   "outputs": [
    {
     "name": "stdout",
     "output_type": "stream",
     "text": [
      "55\n"
     ]
    }
   ],
   "source": [
    "sum=0\n",
    "for i in list:\n",
    "    sum+=i\n",
    "print(sum)"
   ]
  },
  {
   "cell_type": "code",
   "execution_count": null,
   "id": "a70d12db-b6b2-4a07-9734-d462622d75c8",
   "metadata": {},
   "outputs": [],
   "source": [
    "\"\"\"Product using for loop\"\"\" "
   ]
  },
  {
   "cell_type": "code",
   "execution_count": 15,
   "id": "1bd6a2c1-2e19-483e-bd22-4f6f3bacbc10",
   "metadata": {},
   "outputs": [
    {
     "name": "stdout",
     "output_type": "stream",
     "text": [
      "3628800\n"
     ]
    }
   ],
   "source": [
    "product=1\n",
    "for i in list:\n",
    "    product*=i\n",
    "print(product)"
   ]
  },
  {
   "cell_type": "code",
   "execution_count": null,
   "id": "08833db5-4adf-4af0-88dd-65a52c0d37c8",
   "metadata": {},
   "outputs": [],
   "source": [
    "\"\"\"Sum using while loop\"\"\""
   ]
  },
  {
   "cell_type": "code",
   "execution_count": 3,
   "id": "9c87ebae-5184-4f94-90ce-b76b89c7c672",
   "metadata": {},
   "outputs": [
    {
     "name": "stdout",
     "output_type": "stream",
     "text": [
      "55\n"
     ]
    }
   ],
   "source": [
    "i=10\n",
    "sum=0\n",
    "while i>0:\n",
    "    sum+=i\n",
    "    i-=1\n",
    "print(sum)"
   ]
  },
  {
   "cell_type": "code",
   "execution_count": null,
   "id": "17322e1c-0979-4dd4-9cff-ba8d68341ab9",
   "metadata": {},
   "outputs": [],
   "source": [
    "\"\"\"Product using while loop\"\"\""
   ]
  },
  {
   "cell_type": "code",
   "execution_count": 4,
   "id": "89c374d7-04fa-4f2f-9f5a-88e22fc2e2fa",
   "metadata": {},
   "outputs": [
    {
     "name": "stdout",
     "output_type": "stream",
     "text": [
      "3628800\n"
     ]
    }
   ],
   "source": [
    "i=10\n",
    "product=1\n",
    "while i>0:\n",
    "    product*=i\n",
    "    i-=1 \n",
    "print(product)"
   ]
  },
  {
   "cell_type": "code",
   "execution_count": null,
   "id": "0cb13dee-1927-427e-8cd9-1d927ea0984a",
   "metadata": {},
   "outputs": [],
   "source": [
    "#3. Create a python program to compute the electricity bill for a household."
   ]
  },
  {
   "cell_type": "code",
   "execution_count": null,
   "id": "f8c1d358-3af6-4e39-b29b-315ad1900280",
   "metadata": {},
   "outputs": [],
   "source": [
    "\"\"\"The per-unit charges in rupees are as follows: For the first 100 units,the user will be charged Rs. 4.5 per unit,\n",
    "for the next 100 units, the user will be charged Rs.6 per unit, and for the next 100 units, the user will be charged Rs.10 per unit\n",
    "After 300 units and above the user will be charged Rs. 20 per unit.\"\"\"\n",
    "#You are required to take the units of electricity consumed in a month from the user as input.\n",
    "\"\"\"Your program must pass this test case: when the unit of electricity consumed by the user in a month is 310, the total\n",
    "electricity bill should be 2250\"\"\""
   ]
  },
  {
   "cell_type": "code",
   "execution_count": 6,
   "id": "338e857f-3277-4dbf-a2a5-17ee2a2d4b16",
   "metadata": {},
   "outputs": [
    {
     "name": "stdin",
     "output_type": "stream",
     "text": [
      "Enter units of electricity consumed in a month:  310\n"
     ]
    },
    {
     "name": "stdout",
     "output_type": "stream",
     "text": [
      "Electricity bill : Rs. 2250.0\n"
     ]
    }
   ],
   "source": [
    "charge=0\n",
    "unit=int(input(\"Enter units of electricity consumed in a month: \"))\n",
    "if unit<=100:\n",
    "    charge=4.5*unit\n",
    "elif unit<=200:\n",
    "    charge=((100*4.5)+(unit-100)*6)\n",
    "elif unit<=300:\n",
    "    charge=((100*4.5)+100*6+(unit-200)*10)\n",
    "else:\n",
    "    charge=((100*4.5)+(100*6)+(100*10)+(unit-300)*20)\n",
    "print(\"Electricity bill : Rs.\",charge)"
   ]
  },
  {
   "cell_type": "code",
   "execution_count": null,
   "id": "8ab1e87d-9b8b-4928-8d58-e6663256f607",
   "metadata": {},
   "outputs": [],
   "source": [
    "#4. Create a list of numbers from 1 to 100. Use for loop and while loop to calculate the cube of each number and \n",
    "#if the cube of that number is divisible by 4 or 5 then append that number in a list and print that list."
   ]
  },
  {
   "cell_type": "code",
   "execution_count": 20,
   "id": "e4bdf200-c146-46b3-b311-a4a46d49744b",
   "metadata": {},
   "outputs": [
    {
     "name": "stdout",
     "output_type": "stream",
     "text": [
      "[1, 2, 3, 4, 5, 6, 7, 8, 9, 10, 11, 12, 13, 14, 15, 16, 17, 18, 19, 20, 21, 22, 23, 24, 25, 26, 27, 28, 29, 30, 31, 32, 33, 34, 35, 36, 37, 38, 39, 40, 41, 42, 43, 44, 45, 46, 47, 48, 49, 50, 51, 52, 53, 54, 55, 56, 57, 58, 59, 60, 61, 62, 63, 64, 65, 66, 67, 68, 69, 70, 71, 72, 73, 74, 75, 76, 77, 78, 79, 80, 81, 82, 83, 84, 85, 86, 87, 88, 89, 90, 91, 92, 93, 94, 95, 96, 97, 98, 99, 100]\n"
     ]
    }
   ],
   "source": [
    "list = []\n",
    "for i in range(1,101):\n",
    "    list.append(i)\n",
    "print(list)"
   ]
  },
  {
   "cell_type": "code",
   "execution_count": 29,
   "id": "859a9266-fb68-4e20-ae56-8551fdfc2aa9",
   "metadata": {},
   "outputs": [
    {
     "name": "stdout",
     "output_type": "stream",
     "text": [
      "[2, 4, 5, 6, 8, 10, 12, 14, 15, 16, 18, 20, 22, 24, 25, 26, 28, 30, 32, 34, 35, 36, 38, 40, 42, 44, 45, 46, 48, 50, 52, 54, 55, 56, 58, 60, 62, 64, 65, 66, 68, 70, 72, 74, 75, 76, 78, 80, 82, 84, 85, 86, 88, 90, 92, 94, 95, 96, 98, 100]\n"
     ]
    }
   ],
   "source": [
    "#Using for loop\n",
    "newlist=[] \n",
    "for i in list:\n",
    "    if ((i*i*i)%4==0 or (i*i*i)%5==0):\n",
    "        newlist.append(i)\n",
    "print(newlist)"
   ]
  },
  {
   "cell_type": "code",
   "execution_count": 1,
   "id": "c74f123b-7d63-4294-a6d1-06042ea11c6f",
   "metadata": {},
   "outputs": [
    {
     "name": "stdout",
     "output_type": "stream",
     "text": [
      "[2, 4, 5, 6, 8, 10, 12, 14, 15, 16, 18, 20, 22, 24, 25, 26, 28, 30, 32, 34, 35, 36, 38, 40, 42, 44, 45, 46, 48, 50, 52, 54, 55, 56, 58, 60, 62, 64, 65, 66, 68, 70, 72, 74, 75, 76, 78, 80, 82, 84, 85, 86, 88, 90, 92, 94, 95, 96, 98, 100]\n"
     ]
    }
   ],
   "source": [
    "#Using while loop\n",
    "i=1\n",
    "nwlist=[]\n",
    "while i<=101:\n",
    "    if ((i*i*i)%4==0 or (i*i*i)%5==0):\n",
    "        nwlist.append(i)\n",
    "    i+=1\n",
    "print(nwlist)"
   ]
  },
  {
   "cell_type": "code",
   "execution_count": null,
   "id": "a1c8ed76-4d1c-40cb-968b-e2adad9ce2c0",
   "metadata": {},
   "outputs": [],
   "source": [
    "#5. Write a program to filter count vowels in the below-given string.\n",
    "string=\"I want to become a data scientist\""
   ]
  },
  {
   "cell_type": "code",
   "execution_count": 6,
   "id": "f00ab1e1-e711-449f-9ee1-c2e8c1754272",
   "metadata": {},
   "outputs": [
    {
     "name": "stdout",
     "output_type": "stream",
     "text": [
      "No of vowels :  12\n"
     ]
    }
   ],
   "source": [
    "vowels=[\"a\",\"e\",\"i\",\"o\",\"u\"]\n",
    "count=0\n",
    "for i in range(len(string)):\n",
    "    if string[i] in vowels:\n",
    "        count+=1\n",
    "        continue\n",
    "print(\"No of vowels : \",count)"
   ]
  },
  {
   "cell_type": "code",
   "execution_count": null,
   "id": "cd4c1758-80db-4559-9e70-f414c8146492",
   "metadata": {},
   "outputs": [],
   "source": []
  }
 ],
 "metadata": {
  "kernelspec": {
   "display_name": "Python 3 (ipykernel)",
   "language": "python",
   "name": "python3"
  },
  "language_info": {
   "codemirror_mode": {
    "name": "ipython",
    "version": 3
   },
   "file_extension": ".py",
   "mimetype": "text/x-python",
   "name": "python",
   "nbconvert_exporter": "python",
   "pygments_lexer": "ipython3",
   "version": "3.10.8"
  }
 },
 "nbformat": 4,
 "nbformat_minor": 5
}
