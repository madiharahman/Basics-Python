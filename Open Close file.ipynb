{
 "cells": [
  {
   "cell_type": "code",
   "execution_count": null,
   "id": "ab572776-31c0-4d8b-ae77-ae191048f346",
   "metadata": {},
   "outputs": [],
   "source": [
    "#1. Which function is used to open a file? What are the different modes of opening a file? Explain each mode of file opening."
   ]
  },
  {
   "cell_type": "code",
   "execution_count": null,
   "id": "74b7825f-4083-445e-9bc3-2c74a5292079",
   "metadata": {},
   "outputs": [],
   "source": [
    "\"\"\"\n",
    "We use the open() method to open files.\n",
    "\"\"\"\n",
    "#Different modes of opening a file are as follows:\n",
    "\"\"\"\n",
    "Mode       Description\n",
    "r      Open a file for reading. (default)\n",
    "w      Open a file for writing. Creates a new file if it does not exist or truncates the file if it exists.\n",
    "x      Open a file for exclusive creation. If the file already exists, the operation fails.\n",
    "a      Open a file for appending at the end of the file without truncating it. Creates a new file if it does not exist.\n",
    "t      Open in text mode. (default)\n",
    "b      Open in binary mode.\n",
    "+      Open a file for updating (reading and writing)\n",
    "\"\"\""
   ]
  },
  {
   "cell_type": "code",
   "execution_count": null,
   "id": "d514a0eb-3800-4b51-ac1c-677ece3736b6",
   "metadata": {},
   "outputs": [],
   "source": [
    "#2. Why close() function is used? Why is it important to close a file?"
   ]
  },
  {
   "cell_type": "code",
   "execution_count": null,
   "id": "2103fc4b-0e7c-4c44-a429-64ca24dec92e",
   "metadata": {},
   "outputs": [],
   "source": [
    "\"\"\"\n",
    "The close() method closes an open file.\n",
    "\"\"\"\n",
    "\n",
    "#Importance:-\n",
    "\"\"\"\n",
    "We should always close our files, in some cases, due to buffering, changes made to a file may not show until we close the file.\n",
    "Files are limited resources managed by the operating system, making sure files are closed after use will protect against hard-to-debug issues \n",
    "like running out of file handles or experiencing corrupted data.\n",
    "\"\"\""
   ]
  },
  {
   "cell_type": "code",
   "execution_count": 21,
   "id": "078cc7c1-d2dc-49a3-b116-ba792a257437",
   "metadata": {},
   "outputs": [],
   "source": [
    "#3. Write a python program to create a text file. Write ‘I want to become a Data Scientist’ in that file. Then close the file.\n",
    "#Open this file and read the content of the file."
   ]
  },
  {
   "cell_type": "code",
   "execution_count": 20,
   "id": "56f1a882-ff77-4ca1-8a24-43821276df43",
   "metadata": {},
   "outputs": [],
   "source": [
    "with open('file.txt', 'w') as file: \n",
    "    file.write('I want to become a Data Scientist.') \n",
    "    file.close()"
   ]
  },
  {
   "cell_type": "code",
   "execution_count": 21,
   "id": "b980af94-272e-414d-8668-ac0243e87c72",
   "metadata": {},
   "outputs": [
    {
     "name": "stdout",
     "output_type": "stream",
     "text": [
      "I want to become a Data Scientist.\n"
     ]
    }
   ],
   "source": [
    "with open('file.txt', 'r') as file: \n",
    "    read_file = file.read() \n",
    "    print(read_file) \n",
    "file.close()"
   ]
  },
  {
   "cell_type": "code",
   "execution_count": null,
   "id": "f05aa647-247e-4b71-a780-4c32ff36abff",
   "metadata": {},
   "outputs": [],
   "source": [
    "#4. Explain the following with python code: read(), readline() and readlines()."
   ]
  },
  {
   "cell_type": "code",
   "execution_count": 23,
   "id": "0e9d8ab5-d13d-4e8b-b5af-3020d37f6674",
   "metadata": {},
   "outputs": [],
   "source": [
    "with open('myfile.txt', 'w') as myfile: \n",
    "    myfile.write(\"My name is Madiha Rahman.\\nStudent at Aligarh Muslim University.\\nThis is my final year.\") \n",
    "myfile.close()"
   ]
  },
  {
   "cell_type": "code",
   "execution_count": 24,
   "id": "197723b4-4ff9-4d44-a876-475073a93c0b",
   "metadata": {},
   "outputs": [
    {
     "name": "stdout",
     "output_type": "stream",
     "text": [
      "My name is Madiha Rahman.\n",
      "Student at Aligarh Muslim University.\n",
      "This is my final year.\n"
     ]
    }
   ],
   "source": [
    "#The read() method returns the specified number of bytes from the file. Default is -1 which means the whole file.\n",
    "myfile = open(\"myfile.txt\", \"r\")\n",
    "print(myfile.read())"
   ]
  },
  {
   "cell_type": "code",
   "execution_count": 25,
   "id": "4fd59ca7-9aec-4a0b-a2da-db8e3cb66ec9",
   "metadata": {},
   "outputs": [
    {
     "name": "stdout",
     "output_type": "stream",
     "text": [
      "My name is Madiha Rahman.\n",
      "\n"
     ]
    }
   ],
   "source": [
    "#readline() method will return a line from the file when called.\n",
    "with open('myfile.txt', 'r') as myfile: \n",
    "    line = myfile.readline() \n",
    "    print(line) \n",
    "myfile.close()"
   ]
  },
  {
   "cell_type": "code",
   "execution_count": 26,
   "id": "1fd73832-6344-4d8a-9363-ac79ed586c2e",
   "metadata": {},
   "outputs": [
    {
     "name": "stdout",
     "output_type": "stream",
     "text": [
      "['My name is Madiha Rahman.\\n', 'Student at Aligarh Muslim University.\\n', 'This is my final year.']\n"
     ]
    }
   ],
   "source": [
    "#readlines() method will return all the lines in a file in the format of a list where each element is a line in the file.\n",
    "with open('myfile.txt', 'r') as myfile: \n",
    "    lines = myfile.readlines() \n",
    "    print(lines) \n",
    "myfile.close()"
   ]
  },
  {
   "cell_type": "code",
   "execution_count": null,
   "id": "94ac574a-3c86-46b9-8997-c3989c97662e",
   "metadata": {},
   "outputs": [],
   "source": [
    "#5. Explain why with statement is used with open(). What is the advantage of using with statement and open() together?"
   ]
  },
  {
   "cell_type": "code",
   "execution_count": null,
   "id": "c3bd16aa-81b6-4f68-a664-28a50029c557",
   "metadata": {},
   "outputs": [],
   "source": [
    "\"\"\"\n",
    "The with statement is used with the open() function in Python to ensure that the file is properly closed after it has been used.\n",
    "\"\"\"\n",
    "\n",
    "#Advantage :-\n",
    "\"\"\"\n",
    "It automatically takes care of closing the file for us, even if an error occurs during the execution of the block of code.\n",
    "When we use the with statement, Python creates a context in which the file is open and makes it available within the indented block \n",
    "following the with statement. When the block of code is executed, the file is automatically closed, even if an exception is raised.\n",
    "This helps prevent resource leaks and reduces the risk of data corruption.\n",
    "\"\"\""
   ]
  },
  {
   "cell_type": "code",
   "execution_count": null,
   "id": "e7d6fd8a-1e5c-4ffc-b9ca-262569783406",
   "metadata": {},
   "outputs": [],
   "source": [
    "#6. Explain the write() and writelines() functions. Give a suitable example."
   ]
  },
  {
   "cell_type": "code",
   "execution_count": 27,
   "id": "87c069fa-7f98-47c5-b2fb-70cd7b1470ce",
   "metadata": {},
   "outputs": [],
   "source": [
    "#The write() function will write the content in the file without adding any extra characters.\n",
    "with open('content_file.txt', 'w') as file: \n",
    "    newfile.write('Use of write() function.') \n",
    "newfile.close()"
   ]
  },
  {
   "cell_type": "code",
   "execution_count": null,
   "id": "9ab1e4ff-7d91-4ca2-b2e1-e729532e01b4",
   "metadata": {},
   "outputs": [],
   "source": [
    "#The writelines() function writes the content of a list to a file."
   ]
  },
  {
   "cell_type": "code",
   "execution_count": 18,
   "id": "cd612d4a-060e-4e28-96f0-3c58fe3c7224",
   "metadata": {},
   "outputs": [],
   "source": [
    "lines = ['My name is Madiha.\\n','Student at Aligarh Muslim University\\n', 'Final Year\\n'] \n",
    "with open('content_file.txt', 'a') as content_file: \n",
    "    content_file.writelines(lines) \n",
    "content_file.close()"
   ]
  },
  {
   "cell_type": "code",
   "execution_count": 19,
   "id": "206c084f-c3f7-484d-8794-344f044d16da",
   "metadata": {},
   "outputs": [
    {
     "name": "stdout",
     "output_type": "stream",
     "text": [
      "My name is Madiha.\n",
      "Student at Aligarh Muslim University\n",
      "Final Year\n",
      "\n"
     ]
    }
   ],
   "source": [
    "with open('content_file.txt', 'r') as content_file: \n",
    "    content = content_file.read() \n",
    "    print(content) \n",
    "content_file.close()"
   ]
  }
 ],
 "metadata": {
  "kernelspec": {
   "display_name": "Python 3 (ipykernel)",
   "language": "python",
   "name": "python3"
  },
  "language_info": {
   "codemirror_mode": {
    "name": "ipython",
    "version": 3
   },
   "file_extension": ".py",
   "mimetype": "text/x-python",
   "name": "python",
   "nbconvert_exporter": "python",
   "pygments_lexer": "ipython3",
   "version": "3.10.8"
  }
 },
 "nbformat": 4,
 "nbformat_minor": 5
}
