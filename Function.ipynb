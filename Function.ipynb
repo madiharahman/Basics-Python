{
 "cells": [
  {
   "cell_type": "code",
   "execution_count": null,
   "id": "d2b4d956-939f-400d-8ad5-5bb81172f2f1",
   "metadata": {},
   "outputs": [],
   "source": [
    "#1. Which keyword is used to create a function? Create a function to return a list of odd numbers in the range of 1 to 25."
   ]
  },
  {
   "cell_type": "code",
   "execution_count": null,
   "id": "8eb1a908-7528-497c-aa32-66aac5b986a0",
   "metadata": {},
   "outputs": [],
   "source": [
    "\"\"\"def\"\"\""
   ]
  },
  {
   "cell_type": "code",
   "execution_count": 22,
   "id": "e79cbbc4-51f6-44dd-815e-80354593a57d",
   "metadata": {},
   "outputs": [],
   "source": [
    "def oddnumbers():\n",
    "    l1=[]\n",
    "    for i in range(1,26):\n",
    "        if i % 2 != 0:\n",
    "            l1.append(i)\n",
    "    return l1"
   ]
  },
  {
   "cell_type": "code",
   "execution_count": 23,
   "id": "7e3f3e8b-955e-48ba-93e7-2daba9bf9208",
   "metadata": {},
   "outputs": [
    {
     "data": {
      "text/plain": [
       "[1, 3, 5, 7, 9, 11, 13, 15, 17, 19, 21, 23, 25]"
      ]
     },
     "execution_count": 23,
     "metadata": {},
     "output_type": "execute_result"
    }
   ],
   "source": [
    "oddnumbers()"
   ]
  },
  {
   "cell_type": "code",
   "execution_count": null,
   "id": "73ef85e5-b3c2-4164-8467-0c4a6e3dcca3",
   "metadata": {},
   "outputs": [],
   "source": [
    "#2. Why *args and **kwargs is used in some functions? Create a function each for *args and **kwargs to demonstrate their use."
   ]
  },
  {
   "cell_type": "code",
   "execution_count": null,
   "id": "6018380b-7d40-4e28-928c-b4ef86fef77e",
   "metadata": {},
   "outputs": [],
   "source": [
    "\"\"\"*args - To pass the Non-Keyword Argument\n",
    "With this keyword, we can pass any variable length argument list to a function.\"\"\""
   ]
  },
  {
   "cell_type": "code",
   "execution_count": 2,
   "id": "cafcafad-01f8-4d93-9a9c-5a05935496e3",
   "metadata": {},
   "outputs": [],
   "source": [
    "def add(*args):\n",
    "    sum=0\n",
    "    for i in args:\n",
    "        sum += i\n",
    "    return sum\n",
    "result=add(1,3,5,7,9)"
   ]
  },
  {
   "cell_type": "code",
   "execution_count": 3,
   "id": "1564678f-16aa-4c65-8134-4bbd27bf0d84",
   "metadata": {},
   "outputs": [
    {
     "data": {
      "text/plain": [
       "25"
      ]
     },
     "execution_count": 3,
     "metadata": {},
     "output_type": "execute_result"
    }
   ],
   "source": [
    "result"
   ]
  },
  {
   "cell_type": "code",
   "execution_count": null,
   "id": "050b35c6-d7c8-4f4d-8b3d-fd71bc513496",
   "metadata": {},
   "outputs": [],
   "source": [
    "\"\"\"**kwargs - To pass the Keyword Argument\n",
    "The keyword argument means that we pass the name to each variable, and this list is stored as a dictionary of key-value pairs.\"\"\""
   ]
  },
  {
   "cell_type": "code",
   "execution_count": 26,
   "id": "b942912a-7630-40b1-84f3-0d644fa49a4a",
   "metadata": {},
   "outputs": [],
   "source": [
    "def values(**kwargs):  \n",
    "    for key, value in kwargs.items():  \n",
    "        print(\"%s = %s\" % (key,value))"
   ]
  },
  {
   "cell_type": "code",
   "execution_count": 27,
   "id": "7b875a11-7efb-465b-b15e-be8b730d945c",
   "metadata": {},
   "outputs": [
    {
     "name": "stdout",
     "output_type": "stream",
     "text": [
      "a = 1\n",
      "b = 2\n",
      "c = 3\n"
     ]
    }
   ],
   "source": [
    "values(a='1',b='2',c='3')"
   ]
  },
  {
   "cell_type": "code",
   "execution_count": null,
   "id": "9237d83b-1d60-4d63-abdf-0bfa6f547bed",
   "metadata": {},
   "outputs": [],
   "source": [
    "#3. What is an iterator in python? Name the method used to initialise the iterator object and the method used for iteration.\n",
    "#Use these methods to print the first five elements of the given list [2, 4, 6, 8, 10, 12, 14, 16, 18, 20]."
   ]
  },
  {
   "cell_type": "code",
   "execution_count": null,
   "id": "57b66826-08ef-43b4-9794-a10d4f2b2c25",
   "metadata": {},
   "outputs": [],
   "source": [
    "\"\"\"Iterator in Python is an object that is used to iterate over iterable objects like lists, tuples, dicts, and sets. \n",
    "The iterator object is initialized using the iter() method. It uses the next() method for iteration.\"\"\""
   ]
  },
  {
   "cell_type": "code",
   "execution_count": 29,
   "id": "92846f02-b6f2-4267-847a-29e1ec961be0",
   "metadata": {},
   "outputs": [
    {
     "name": "stdout",
     "output_type": "stream",
     "text": [
      "2\n",
      "4\n",
      "6\n",
      "8\n",
      "10\n"
     ]
    }
   ],
   "source": [
    "l2=[2,4,6,8,10,12,14,16,18,20]\n",
    "iterator=iter(l2)\n",
    "for i in range(5):\n",
    "    print(next(iterator))"
   ]
  },
  {
   "cell_type": "code",
   "execution_count": null,
   "id": "448a7b6f-e760-44bc-95c5-a4068e2f313d",
   "metadata": {},
   "outputs": [],
   "source": [
    "#4. What is a generator function in python? Why yield keyword is used? Give an example of a generator function."
   ]
  },
  {
   "cell_type": "code",
   "execution_count": null,
   "id": "2684da2e-08b2-44d2-a821-c1de85466f96",
   "metadata": {},
   "outputs": [],
   "source": [
    "\"\"\"Generator function returns an iterator that produces a sequence of values when iterated over.\n",
    "Generators are useful when we want to produce a large sequence of values, but we don't want to store all of them in memory at once.\n",
    "yield keyword is used to produce a value from the generator.\"\"\""
   ]
  },
  {
   "cell_type": "code",
   "execution_count": 32,
   "id": "ca8e3656-cbcd-4a07-a855-b50f8d8e7186",
   "metadata": {},
   "outputs": [
    {
     "name": "stdout",
     "output_type": "stream",
     "text": [
      "0\n",
      "1\n",
      "4\n",
      "9\n",
      "16\n",
      "25\n",
      "36\n",
      "49\n",
      "64\n",
      "81\n"
     ]
    }
   ],
   "source": [
    "#Example:\n",
    "sqs = (i * i for i in range(10))\n",
    "for i in sqs:\n",
    "    print(i)"
   ]
  },
  {
   "cell_type": "code",
   "execution_count": null,
   "id": "0e09e67f-961d-4465-8083-97c385486c95",
   "metadata": {},
   "outputs": [],
   "source": [
    "#5. Create a generator function for prime numbers less than 1000. Use the next() method to print the first 20 prime numbers."
   ]
  },
  {
   "cell_type": "code",
   "execution_count": 34,
   "id": "76dd46bf-2e28-44df-9763-381358967a14",
   "metadata": {},
   "outputs": [
    {
     "name": "stdout",
     "output_type": "stream",
     "text": [
      "2\n",
      "3\n",
      "5\n",
      "7\n",
      "11\n",
      "13\n",
      "17\n",
      "19\n",
      "23\n",
      "29\n",
      "31\n",
      "37\n",
      "41\n",
      "43\n",
      "47\n",
      "53\n",
      "59\n",
      "61\n",
      "67\n",
      "71\n"
     ]
    }
   ],
   "source": [
    "def prime():\n",
    "    for i in range(2,1000):\n",
    "        if(i in (2,3,5,7,11))==True:\n",
    "            yield i\n",
    "        if i%2!=0 and i%3!=0 and i%5!=0 and i%7!=0 and i%11!=0:\n",
    "            if (i-1)%6==0 or (i+1)%6==0:\n",
    "                yield i\n",
    "a=prime()\n",
    "for i in range(20):\n",
    "    print(next(a))"
   ]
  },
  {
   "cell_type": "code",
   "execution_count": null,
   "id": "c749427c-685e-41b3-b7c5-f2cf5f0b88ed",
   "metadata": {},
   "outputs": [],
   "source": [
    "#6. Write a python program to print the first 10 Fibonacci numbers using a while loop."
   ]
  },
  {
   "cell_type": "code",
   "execution_count": 42,
   "id": "c91611ee-730e-40c3-9c7f-06ef4042c75f",
   "metadata": {},
   "outputs": [
    {
     "name": "stdout",
     "output_type": "stream",
     "text": [
      "Fibonacci Series:  0 1 1 2 3 5 8 13 21 34 "
     ]
    }
   ],
   "source": [
    "a = 0\n",
    "b = 1\n",
    "sum = 0\n",
    "count = 1\n",
    "print(\"Fibonacci Series: \", end = \" \")\n",
    "while(count <= 10):\n",
    "    print(sum, end = \" \")\n",
    "    count += 1\n",
    "    a = b\n",
    "    b = sum\n",
    "    sum = a + b"
   ]
  },
  {
   "cell_type": "code",
   "execution_count": null,
   "id": "993552f5-b175-4c20-ab4d-c3d7a965e1f0",
   "metadata": {},
   "outputs": [],
   "source": [
    "#7. Write a List Comprehension to iterate through the given string: ‘pwskills’.\n",
    "#Expected output: ['p', 'w', 's', 'k', 'i', 'l', 'l', 's']"
   ]
  },
  {
   "cell_type": "code",
   "execution_count": 43,
   "id": "e60fa8c6-9ecd-48d2-b73b-a266d5be7749",
   "metadata": {},
   "outputs": [
    {
     "name": "stdout",
     "output_type": "stream",
     "text": [
      "['p', 'w', 's', 'k', 'i', 'l', 'l', 's']\n"
     ]
    }
   ],
   "source": [
    "l3=[]\n",
    "for i in 'pwskills':\n",
    "    l3.append(i)\n",
    "print(l3)"
   ]
  },
  {
   "cell_type": "code",
   "execution_count": null,
   "id": "c898e6b5-d23c-44f7-812a-c3c92f74eeb6",
   "metadata": {},
   "outputs": [],
   "source": [
    "#8. Write a python program to check whether a given number is Palindrome or not using a while loop."
   ]
  },
  {
   "cell_type": "code",
   "execution_count": 46,
   "id": "6ee3f926-568e-4e5b-abcc-a727d6bdd042",
   "metadata": {},
   "outputs": [
    {
     "name": "stdin",
     "output_type": "stream",
     "text": [
      "Enter Number:  101\n"
     ]
    },
    {
     "name": "stdout",
     "output_type": "stream",
     "text": [
      "101 is a Palindrome\n"
     ]
    }
   ],
   "source": [
    "num = int(input(\"Enter Number: \"))\n",
    "reverse = 0\n",
    "number = num\n",
    "while(num != 0):\n",
    "   remainder = num % 10\n",
    "   reverse = reverse * 10 + remainder\n",
    "   num = int(num / 10)\n",
    "if(number == reverse):\n",
    "   print(number,'is a Palindrome')\n",
    "else:\n",
    "   print(number,'is not a Palindrome')"
   ]
  },
  {
   "cell_type": "code",
   "execution_count": null,
   "id": "e51e90f1-330b-4b5c-a6be-18f1c23e657d",
   "metadata": {},
   "outputs": [],
   "source": [
    "#9. Write a code to print odd numbers from 1 to 100 using list comprehension."
   ]
  },
  {
   "cell_type": "code",
   "execution_count": 47,
   "id": "1b7c31d1-19fc-4d8a-97e0-870cb06323ac",
   "metadata": {},
   "outputs": [],
   "source": [
    "l4=list(range(1,101))"
   ]
  },
  {
   "cell_type": "code",
   "execution_count": 49,
   "id": "6dbe1126-2995-4ea0-bdac-190b49261aae",
   "metadata": {},
   "outputs": [
    {
     "name": "stdout",
     "output_type": "stream",
     "text": [
      "[1, 2, 3, 4, 5, 6, 7, 8, 9, 10, 11, 12, 13, 14, 15, 16, 17, 18, 19, 20, 21, 22, 23, 24, 25, 26, 27, 28, 29, 30, 31, 32, 33, 34, 35, 36, 37, 38, 39, 40, 41, 42, 43, 44, 45, 46, 47, 48, 49, 50, 51, 52, 53, 54, 55, 56, 57, 58, 59, 60, 61, 62, 63, 64, 65, 66, 67, 68, 69, 70, 71, 72, 73, 74, 75, 76, 77, 78, 79, 80, 81, 82, 83, 84, 85, 86, 87, 88, 89, 90, 91, 92, 93, 94, 95, 96, 97, 98, 99, 100]\n"
     ]
    }
   ],
   "source": [
    "print(l4)"
   ]
  },
  {
   "cell_type": "code",
   "execution_count": 52,
   "id": "44e323da-2019-4dad-b0b0-9f7d81cf453f",
   "metadata": {},
   "outputs": [
    {
     "name": "stdout",
     "output_type": "stream",
     "text": [
      "[1, 3, 5, 7, 9, 11, 13, 15, 17, 19, 21, 23, 25, 27, 29, 31, 33, 35, 37, 39, 41, 43, 45, 47, 49, 51, 53, 55, 57, 59, 61, 63, 65, 67, 69, 71, 73, 75, 77, 79, 81, 83, 85, 87, 89, 91, 93, 95, 97, 99]\n"
     ]
    }
   ],
   "source": [
    "oddl5 = [num for num in l4 if num % 2 == 1 ]\n",
    "print(oddl5)"
   ]
  }
 ],
 "metadata": {
  "kernelspec": {
   "display_name": "Python 3 (ipykernel)",
   "language": "python",
   "name": "python3"
  },
  "language_info": {
   "codemirror_mode": {
    "name": "ipython",
    "version": 3
   },
   "file_extension": ".py",
   "mimetype": "text/x-python",
   "name": "python",
   "nbconvert_exporter": "python",
   "pygments_lexer": "ipython3",
   "version": "3.10.8"
  }
 },
 "nbformat": 4,
 "nbformat_minor": 5
}
