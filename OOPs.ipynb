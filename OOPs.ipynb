{
 "cells": [
  {
   "cell_type": "code",
   "execution_count": null,
   "id": "96c4183d-0cbe-4a01-b010-a81ecaf3790d",
   "metadata": {},
   "outputs": [],
   "source": [
    "#1. Explain Class and Object with respect to Object-Oriented Programming. Give a suitable example."
   ]
  },
  {
   "cell_type": "code",
   "execution_count": null,
   "id": "0298c545-8f62-44b3-94e7-82fcb1a06626",
   "metadata": {},
   "outputs": [],
   "source": [
    "#Class :- \n",
    "\"\"\"\n",
    "•A class is a collection of objects. \n",
    "•A class contains the blueprints or the prototype from which the objects are being created.\n",
    "•It is a logical entity that contains some attributes and methods.\n",
    "•Classes are created by keyword class.\n",
    "•Attributes are the variables that belong to a class.\n",
    "•Attributes are always public and can be accessed using the dot (.) operator. Eg.: Myclass.Myattribute\n",
    "\"\"\""
   ]
  },
  {
   "cell_type": "code",
   "execution_count": null,
   "id": "baf7bbf8-76e3-44d0-9748-a554b2231a37",
   "metadata": {},
   "outputs": [],
   "source": [
    "#Objects :-\n",
    "\"\"\"\n",
    "•The object is an entity that has a state and behavior associated with it. \n",
    "•It may be any real-world object like a mouse, keyboard, chair, table, pen, etc. Integers, strings, \n",
    "floating-point numbers, even arrays, and dictionaries, are all objects. \n",
    "•More specifically, any single integer or any single string is an object. \n",
    "•The number 12 is an object, the string “Hello, world” is an object, a list is an object that can\n",
    "hold other objects, and so on.\n",
    "\n",
    "\n",
    "•An object consists of:\n",
    "i. State: It is represented by the attributes of an object. It also reflects the properties of an \n",
    "object.\n",
    "ii. Behavior: It is represented by the methods of an object. It also reflects the response of an \n",
    "object to other objects.\n",
    "iii. Identity: It gives a unique name to an object and enables one object to interact with other \n",
    "objects.\n",
    "\"\"\""
   ]
  },
  {
   "cell_type": "code",
   "execution_count": 2,
   "id": "5d9381ba-bc95-445c-b667-b534798d01ac",
   "metadata": {},
   "outputs": [
    {
     "name": "stdout",
     "output_type": "stream",
     "text": [
      "10\n",
      "15\n"
     ]
    }
   ],
   "source": [
    "#Created a class named MyFirstClass, with a property named y.\n",
    "#Class creation\n",
    "class MyFirstClass:\n",
    "    y = 10\n",
    "    x = 15\n",
    "#Created an object named o1, and print the value of y and x.\n",
    "#Object creation\n",
    "o1 = MyFirstClass()\n",
    "print(o1.y)\n",
    "print(o1.x)"
   ]
  },
  {
   "cell_type": "code",
   "execution_count": null,
   "id": "aaa9b027-6bdd-4cf5-b3a0-986fcc13c25b",
   "metadata": {},
   "outputs": [],
   "source": [
    "#2. Name the four pillars of OOPs."
   ]
  },
  {
   "cell_type": "code",
   "execution_count": null,
   "id": "2567ec13-075b-4dda-a4fd-760b88cc0ad0",
   "metadata": {},
   "outputs": [],
   "source": [
    "\"\"\"\n",
    "1. Inheritance \n",
    "2. Polymorphism \n",
    "3. Encapsulation\n",
    "4. Data Abstraction \n",
    "\"\"\""
   ]
  },
  {
   "cell_type": "code",
   "execution_count": null,
   "id": "07466212-503f-457d-ab51-53252c37311f",
   "metadata": {},
   "outputs": [],
   "source": [
    "#3. Explain why the __init__() function is used. Give a suitable example."
   ]
  },
  {
   "cell_type": "code",
   "execution_count": null,
   "id": "8f0b74ad-5ae2-48fc-8927-edcbf2d8a08b",
   "metadata": {},
   "outputs": [],
   "source": [
    "\"\"\"The __init__() is called the constructor and is always called when an object is created.\n",
    "It is run as soon as an object of a class is instantiated. \n",
    "The method is useful to do any initialization we want to do with our object.\"\"\""
   ]
  },
  {
   "cell_type": "code",
   "execution_count": 5,
   "id": "fa8f706a-27da-45eb-8985-d2e050199fe3",
   "metadata": {},
   "outputs": [
    {
     "name": "stdout",
     "output_type": "stream",
     "text": [
      "20\n",
      "Fazzi\n",
      "Saifi 23\n"
     ]
    }
   ],
   "source": [
    "#Created a class named Person, use the init() function to assign values for name and age.\n",
    "class Person:\n",
    "    def __init__(self, name, age):\n",
    "        self.name = name\n",
    "        self.age = age\n",
    "    \n",
    "#Object\n",
    "person1 = Person(\"Madiha\", 20)\n",
    "person2 = Person(\"Fazzi\", 21)\n",
    "person3 = Person(\"Saifi\", 23)\n",
    "print(person1.age)\n",
    "print(person2.name)\n",
    "print(person3.name, person3.age)"
   ]
  },
  {
   "cell_type": "code",
   "execution_count": null,
   "id": "ddd51406-4342-4259-8ed4-a570942df251",
   "metadata": {},
   "outputs": [],
   "source": [
    "#4. Why self is used in OOPs?"
   ]
  },
  {
   "cell_type": "code",
   "execution_count": null,
   "id": "be4ba786-efbf-46a7-a328-ded3812842ff",
   "metadata": {},
   "outputs": [],
   "source": [
    "\"\"\"\n",
    "•SELF represents the instance of class.\n",
    "•This keyword allows you to access variables, attributes, and methods of a defined class in Python.\n",
    "•The self parameter doesn’t have to be named “self,” as you can call it by any other name\n",
    "•These methods can access instances of a class and are used to read or write instance attributes.\n",
    "\"\"\""
   ]
  },
  {
   "cell_type": "code",
   "execution_count": null,
   "id": "5b870911-8715-497f-af58-1805557f067f",
   "metadata": {},
   "outputs": [],
   "source": [
    "#5. What is inheritance? Give an example for each type of inheritance."
   ]
  },
  {
   "cell_type": "code",
   "execution_count": null,
   "id": "673bc7b7-64e1-4534-aaef-fc5ea6486812",
   "metadata": {},
   "outputs": [],
   "source": [
    "\"\"\"Inheritance\n",
    "•Inheritance is the capability of one class to derive or inherit the properties from another class. \n",
    "•The class that derives properties is called the derived class or child class and the class from \n",
    "which the properties are being derived is called the base class or parent class.\"\"\""
   ]
  },
  {
   "cell_type": "code",
   "execution_count": null,
   "id": "45dfceb5-f7f4-4682-b74f-930c70212a65",
   "metadata": {},
   "outputs": [],
   "source": [
    "#a. Single Inheritance:\n",
    "\"\"\"Single-level inheritance enables a derived class to inherit characteristics from a single-parent class.\"\"\""
   ]
  },
  {
   "cell_type": "code",
   "execution_count": 6,
   "id": "3ef79eef-9007-4680-8416-5baa2f9d4124",
   "metadata": {},
   "outputs": [
    {
     "name": "stdout",
     "output_type": "stream",
     "text": [
      "This attribute is in parent class.\n",
      "This attribute in child class.\n"
     ]
    }
   ],
   "source": [
    "#Example\n",
    "class Parent:\n",
    "    def mature(self):\n",
    "        print(\"This attribute is in parent class.\")\n",
    "class Child(Parent):\n",
    "    def innocent(self):\n",
    "        print(\"This attribute in child class.\")\n",
    "object = Child()\n",
    "object.mature()\n",
    "object.innocent()"
   ]
  },
  {
   "cell_type": "code",
   "execution_count": null,
   "id": "4405fe1c-932e-4691-9f2d-1635e95c11ba",
   "metadata": {},
   "outputs": [],
   "source": [
    "#b. Multilevel Inheritance:\n",
    "\"\"\"Multi-level inheritance enables a derived class to inherit properties from an immediate \n",
    "parent class which in turn inherits properties from his parent class.\"\"\""
   ]
  },
  {
   "cell_type": "code",
   "execution_count": 24,
   "id": "df52d649-bd85-4d7a-8034-a86d9e10aa93",
   "metadata": {},
   "outputs": [
    {
     "name": "stdout",
     "output_type": "stream",
     "text": [
      "Grandfather name : Lutfur\n",
      "Father name : Faiz\n",
      "Son name : Saeed\n"
     ]
    }
   ],
   "source": [
    "#Example\n",
    "class Grandfather:\n",
    "    def __init__(self, grandfathername):\n",
    "        self.grandfathername = grandfathername\n",
    "        \n",
    "class Father(Grandfather):\n",
    "\tdef __init__(self, fathername, grandfathername):\n",
    "\t\tself.fathername = fathername\n",
    "\t\tGrandfather.__init__(self, grandfathername)\n",
    "        \n",
    "class Son(Father):\n",
    "\tdef __init__(self, sonname, fathername, grandfathername):\n",
    "\t\tself.sonname = sonname\n",
    "\t\tFather.__init__(self, fathername, grandfathername)\n",
    "        \n",
    "\tdef print_name(self):\n",
    "\t\tprint('Grandfather name :', self.grandfathername)\n",
    "\t\tprint(\"Father name :\", self.fathername)\n",
    "\t\tprint(\"Son name :\", self.sonname)\n",
    "s1 = Son('Saeed','Faiz','Lutfur')\n",
    "s1.print_name()"
   ]
  },
  {
   "cell_type": "code",
   "execution_count": null,
   "id": "bab5f7e9-dff9-457c-bc3f-3ece2d7ceef0",
   "metadata": {},
   "outputs": [],
   "source": [
    "#c. Hierarchical Inheritance:\n",
    "\"\"\"Hierarchical level inheritance enables more than one derived class to inherit properties from a parent class.\"\"\""
   ]
  },
  {
   "cell_type": "code",
   "execution_count": 28,
   "id": "acaca5b6-80f8-4ecb-a42a-314ffce45ebf",
   "metadata": {},
   "outputs": [
    {
     "name": "stdout",
     "output_type": "stream",
     "text": [
      "This is Saeed - Parent.\n",
      "This is Madiha.\n",
      "This is Saeed - Parent.\n",
      "This is Laraib.\n"
     ]
    }
   ],
   "source": [
    "#Example\n",
    "class Parent:\n",
    "    def saeed(self):\n",
    "        print(\"This is Saeed - Parent.\")\n",
    "class Child1(Parent):\n",
    "    def madiha(self):\n",
    "        print(\"This is Madiha.\")\n",
    "class Child2(Parent):\n",
    "\tdef laraib(self):\n",
    "\t\tprint(\"This is Laraib.\")\n",
    "object1 = Child1()\n",
    "object2 = Child2()\n",
    "object1.saeed()\n",
    "object1.madiha()\n",
    "object2.saeed()\n",
    "object2.laraib()"
   ]
  },
  {
   "cell_type": "code",
   "execution_count": null,
   "id": "256b3125-a058-4925-beb9-5f7919ef291f",
   "metadata": {},
   "outputs": [],
   "source": [
    "#d. Multiple Inheritance:\n",
    "\"\"\"Multiple level inheritance enables one derived class to inherit properties from more than one base class.\"\"\""
   ]
  },
  {
   "cell_type": "code",
   "execution_count": 29,
   "id": "fde8f5d8-4b98-4c0a-9a59-d85ddd1f21e0",
   "metadata": {},
   "outputs": [
    {
     "name": "stdout",
     "output_type": "stream",
     "text": [
      "Father : Faiz\n",
      "Mother : Mahim\n"
     ]
    }
   ],
   "source": [
    "#Example\n",
    "class Mother:\n",
    "\tmothername = \"\"\n",
    "\tdef mother(self):\n",
    "\t\tprint(self.mothername)\n",
    "class Father:\n",
    "\tfathername = \"\"\n",
    "\tdef father(self):\n",
    "\t\tprint(self.fathername)\n",
    "class Son(Mother, Father):\n",
    "\tdef parents(self):\n",
    "\t\tprint(\"Father :\", self.fathername)\n",
    "\t\tprint(\"Mother :\", self.mothername)\n",
    "s1 = Son()\n",
    "s1.fathername = \"Faiz\"\n",
    "s1.mothername = \"Mahim\"\n",
    "s1.parents()"
   ]
  },
  {
   "cell_type": "code",
   "execution_count": null,
   "id": "f5580d3f-3cb0-46d7-824d-ab7b5372960c",
   "metadata": {},
   "outputs": [],
   "source": [
    "#e. Hybrid Inheritance\n",
    "\"\"\"Inheritance onsisting of multiple types of inheritance is called hybrid inheritance.\"\"\""
   ]
  },
  {
   "cell_type": "code",
   "execution_count": 35,
   "id": "af888a49-1f2e-4a29-9797-e633bbbdf11c",
   "metadata": {},
   "outputs": [
    {
     "name": "stdout",
     "output_type": "stream",
     "text": [
      "These are sisters\n",
      "She is eldest.\n"
     ]
    }
   ],
   "source": [
    "#Example \n",
    "class Sister:\n",
    "    def sister(self):\n",
    "        print(\"These are sisters\")\n",
    "class Madiha(Sister):\n",
    "\tdef sister1(self):\n",
    "\t\tprint(\"She is eldest.\")\n",
    "class Laraib(Sister):\n",
    "\tdef sister2(self):\n",
    "\t\tprint(\"She is middle one.\")\n",
    "class Bushra(Madiha, Sister):\n",
    "\tdef sister3(self):\n",
    "\t\tprint(\"She is youngest.\")\n",
    "object = Bushra()\n",
    "object.sister()\n",
    "object.sister1()"
   ]
  }
 ],
 "metadata": {
  "kernelspec": {
   "display_name": "Python 3 (ipykernel)",
   "language": "python",
   "name": "python3"
  },
  "language_info": {
   "codemirror_mode": {
    "name": "ipython",
    "version": 3
   },
   "file_extension": ".py",
   "mimetype": "text/x-python",
   "name": "python",
   "nbconvert_exporter": "python",
   "pygments_lexer": "ipython3",
   "version": "3.10.8"
  }
 },
 "nbformat": 4,
 "nbformat_minor": 5
}
