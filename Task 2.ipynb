{
 "cells": [
  {
   "cell_type": "code",
   "execution_count": null,
   "id": "39602e32-a8ab-4e99-8b9f-17cdd3839f5b",
   "metadata": {},
   "outputs": [],
   "source": [
    "#1. You are writing code for a company. The requirement of the company is that you create a python function that will check whether the password \n",
    "#entered by the user is correct or not. The function should take the password as input and return the string “Valid Password” if the entered password follows the \n",
    "#below-given password guidelines else it should return “Invalid Password”.\n",
    "\"\"\"\n",
    "Note: 1. The Password should contain at least two uppercase letters and at least two lowercase letters.\n",
    "2. The Password should contain at least a number and three special characters.\n",
    "3. The length of the password should be 10 characters long.\n",
    "\"\"\""
   ]
  },
  {
   "cell_type": "code",
   "execution_count": 15,
   "id": "5604295c-cd2d-4f1a-b0b5-795a0174bc34",
   "metadata": {},
   "outputs": [
    {
     "name": "stdin",
     "output_type": "stream",
     "text": [
      "Enter password :  (MadihA@5)\n"
     ]
    },
    {
     "name": "stdout",
     "output_type": "stream",
     "text": [
      "Valid Password\n"
     ]
    }
   ],
   "source": [
    "pswd=input(\"Enter password : \")\n",
    "def password_check(pswd):\n",
    "    list = ['!', '@', '#', '$', '%', '&', '(', ')', '-', '_', '[', ']', '{', '}', ';', ':', '\"', '.', '/', '<', '>', '?']\n",
    "    u_count = 0\n",
    "    l_count = 0\n",
    "    n_count = 0\n",
    "    s_count = 0\n",
    "    if len(pswd) == 10:\n",
    "        for i in pswd:\n",
    "            if i in list:\n",
    "                s_count = s_count + 1\n",
    "            elif i.isdigit() == True:\n",
    "                n_count = n_count + 1\n",
    "            elif i.isupper() == True:\n",
    "                u_count = u_count + 1\n",
    "            elif i.islower() == True:\n",
    "                l_count = l_count + 1\n",
    "        if u_count >= 2 and l_count >= 2 and n_count >= 1 and s_count >= 3 and len(pswd) == 10:\n",
    "            return \"Valid Password\"\n",
    "        else:\n",
    "            return \"Invalid Password\"\n",
    "    else:\n",
    "        return \"Invalid Password\"\n",
    "print(password_check(pswd))"
   ]
  },
  {
   "cell_type": "code",
   "execution_count": null,
   "id": "4d60114a-5529-4dc8-ad00-ff91a354b61f",
   "metadata": {},
   "outputs": [],
   "source": [
    "#2. Solve the below-given questions using at least one of the following: \n",
    "#1. Lambda function\n",
    "#2. Filter function\n",
    "#3. Map function\n",
    "#4. List Comprehension\n",
    "\n",
    "\"\"\"\n",
    "Check if the string starts with a particular letter.\n",
    "Check if the string is numeric.\n",
    "Sort a list of tuples having fruit names and their quantity. [(\"mango\",99),(\"orange\",80), (\"grapes\", 1000)]\n",
    "Find the squares of numbers from 1 to 10.\n",
    "Find the cube root of numbers from 1 to 10.\n",
    "Check if a given number is even.\n",
    "Filter odd numbers from the given list.\n",
    " [1,2,3,4,5,6,7,8,9,10]\n",
    "Sort a list of integers into positive and negative integers lists.\n",
    " [1,2,3,4,5,6,-1,-2,-3,-4,-5,0]\n",
    "\"\"\""
   ]
  },
  {
   "cell_type": "code",
   "execution_count": null,
   "id": "ce6e200d-7719-4fb0-b0e0-157f28be7acb",
   "metadata": {},
   "outputs": [],
   "source": [
    "#using list comprehension "
   ]
  },
  {
   "cell_type": "code",
   "execution_count": 2,
   "id": "7f00aa61-8108-4bdb-85f1-7671ccca079e",
   "metadata": {},
   "outputs": [
    {
     "name": "stdout",
     "output_type": "stream",
     "text": [
      "['Madi']\n"
     ]
    }
   ],
   "source": [
    "strings = ['Fazzi','Saifi','Madi']\n",
    "letter = 'M'\n",
    "result = [s for s in strings if s.startswith(letter)]\n",
    "print(result)"
   ]
  },
  {
   "cell_type": "code",
   "execution_count": null,
   "id": "325ca027-f57c-4531-a174-8d76486259d0",
   "metadata": {},
   "outputs": [],
   "source": [
    "#using lambda function"
   ]
  },
  {
   "cell_type": "code",
   "execution_count": 3,
   "id": "08fa384a-61c5-452e-902b-86d6c71b821f",
   "metadata": {},
   "outputs": [
    {
     "name": "stdout",
     "output_type": "stream",
     "text": [
      "['123']\n"
     ]
    }
   ],
   "source": [
    "strings = ['madi','3.14','-1','123']\n",
    "result = list(filter(lambda s:s.isnumeric(),strings))\n",
    "print(result)           "
   ]
  },
  {
   "cell_type": "code",
   "execution_count": null,
   "id": "d5a768c9-1aea-41f3-a3db-ea4eedd6aac2",
   "metadata": {},
   "outputs": [],
   "source": [
    "#using lambda function "
   ]
  },
  {
   "cell_type": "code",
   "execution_count": 4,
   "id": "38b77888-ec84-42e9-b27a-7e02eb2d51e8",
   "metadata": {},
   "outputs": [
    {
     "name": "stdout",
     "output_type": "stream",
     "text": [
      "[('orange', 80), ('mango', 99), ('grapes', 1000)]\n"
     ]
    }
   ],
   "source": [
    "fruits = [(\"mango\",99),(\"orange\",80),(\"grapes\",1000)]\n",
    "result = sorted(fruits, key=lambda x:x[1])\n",
    "print(result)"
   ]
  },
  {
   "cell_type": "code",
   "execution_count": null,
   "id": "5614202c-66e8-4ec2-a403-ff34c7d35707",
   "metadata": {},
   "outputs": [],
   "source": [
    "#using list comprehension "
   ]
  },
  {
   "cell_type": "code",
   "execution_count": 5,
   "id": "e40e983d-04bf-407c-97f5-00402c890aa9",
   "metadata": {},
   "outputs": [
    {
     "name": "stdout",
     "output_type": "stream",
     "text": [
      "[1, 4, 9, 16, 25, 36, 49, 64, 81, 100]\n"
     ]
    }
   ],
   "source": [
    "squares = [x**2 for x in range(1,11)]\n",
    "print(squares)"
   ]
  },
  {
   "cell_type": "code",
   "execution_count": null,
   "id": "b17c0042-f65e-4165-9fe3-9ddfccc8a4ea",
   "metadata": {},
   "outputs": [],
   "source": [
    "#using map and lambda function "
   ]
  },
  {
   "cell_type": "code",
   "execution_count": 3,
   "id": "9b9aa64d-1300-42f5-9db5-7b3beebdabf3",
   "metadata": {},
   "outputs": [
    {
     "name": "stdout",
     "output_type": "stream",
     "text": [
      "[1.0, 1.2599210498948732, 1.4422495703074083, 1.5874010519681994, 1.7099759466766968, 1.8171205928321397, 1.912931182772389, 2.0, 2.080083823051904, 2.154434690031884]\n"
     ]
    }
   ],
   "source": [
    "cuberoot = list(map(lambda x:x**(1/3), range(1,11)))\n",
    "print(cuberoot)"
   ]
  },
  {
   "cell_type": "code",
   "execution_count": null,
   "id": "2a2e7258-502f-49d2-acc9-769454e210ec",
   "metadata": {},
   "outputs": [],
   "source": [
    "#using lambda function "
   ]
  },
  {
   "cell_type": "code",
   "execution_count": 4,
   "id": "81e2c572-c3b5-430e-8c6c-35caef7f132f",
   "metadata": {},
   "outputs": [
    {
     "name": "stdout",
     "output_type": "stream",
     "text": [
      "True\n"
     ]
    }
   ],
   "source": [
    "even = lambda x:x % 2 == 0\n",
    "result = even(8)\n",
    "print(result)"
   ]
  },
  {
   "cell_type": "code",
   "execution_count": null,
   "id": "0d3bb2f2-3b3a-4045-8cdf-b56cc868afad",
   "metadata": {},
   "outputs": [],
   "source": [
    "#using filter and lambda function "
   ]
  },
  {
   "cell_type": "code",
   "execution_count": 5,
   "id": "e6c539db-ca5c-4688-91b7-11c85be070c7",
   "metadata": {},
   "outputs": [
    {
     "name": "stdout",
     "output_type": "stream",
     "text": [
      "[1, 3, 5, 7, 9]\n"
     ]
    }
   ],
   "source": [
    "nums = [1,2,3,4,5,6,7,8,9,10]\n",
    "odd_f = list(filter(lambda x:x % 2 != 0, nums))\n",
    "print(odd_f)"
   ]
  },
  {
   "cell_type": "code",
   "execution_count": null,
   "id": "78bbaf7a-2e3b-4f6f-90bd-b3fe9cf7e5e5",
   "metadata": {},
   "outputs": [],
   "source": [
    "#using filter and lambda function "
   ]
  },
  {
   "cell_type": "code",
   "execution_count": 6,
   "id": "473db7d3-628c-4bc8-8460-6e6bc26e4684",
   "metadata": {},
   "outputs": [
    {
     "name": "stdout",
     "output_type": "stream",
     "text": [
      "([1, 2, 3, 4, 5, 6], [-1, -2, -3, -4, -5])\n"
     ]
    }
   ],
   "source": [
    "nums = [1,2,3,4,5,6,-1,-2,-3,-4,-5,0]\n",
    "pov = list(filter(lambda x:x > 0, nums))\n",
    "neg = list(filter(lambda x:x < 0, nums))\n",
    "out = (pov,neg)\n",
    "print(out)"
   ]
  }
 ],
 "metadata": {
  "kernelspec": {
   "display_name": "Python 3 (ipykernel)",
   "language": "python",
   "name": "python3"
  },
  "language_info": {
   "codemirror_mode": {
    "name": "ipython",
    "version": 3
   },
   "file_extension": ".py",
   "mimetype": "text/x-python",
   "name": "python",
   "nbconvert_exporter": "python",
   "pygments_lexer": "ipython3",
   "version": "3.10.8"
  }
 },
 "nbformat": 4,
 "nbformat_minor": 5
}
