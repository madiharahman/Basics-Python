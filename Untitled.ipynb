{
 "cells": [
  {
   "cell_type": "code",
   "execution_count": null,
   "id": "404e25f0-c744-4294-873c-697205c5a0a5",
   "metadata": {},
   "outputs": [],
   "source": [
    "#1. What is a database? Differentiate between SQL and NoSQL databases."
   ]
  },
  {
   "cell_type": "code",
   "execution_count": null,
   "id": "4fd64ece-e7ee-43ea-a0aa-f14495f45343",
   "metadata": {},
   "outputs": [],
   "source": [
    "\"\"\"A database is an organized collection of structured information, or data, typically stored electronically \n",
    "in a computer system. A database is usually controlled by a database management system (DBMS). \n",
    "Together, the data and the DBMS, along with the applications that are associated with them, \n",
    "are referred to as a database system, often shortened to just database.\n",
    "\n",
    "SQL, which stands for “Structured Query Language,” is the programming language that’s been widely used in \n",
    "managing data in relational database management systems (RDBMS) since the 1970s. \n",
    "\n",
    "In the early years, when storage was expensive, SQL databases focused on reducing data duplication.\n",
    "SQL is still widely used for querying relational databases, where data is stored in rows and tables \n",
    "that are linked in various ways. One table record may link to one other or to many others, \n",
    "or many table records may be related to many records in another table. \n",
    "These relational databases, which offer fast data storage and recovery, can handle great amounts of data\n",
    "and complex SQL queries.\n",
    "\n",
    "In the other hand NoSQL is a non-relational database, meaning it allows different structures than a \n",
    "SQL database (not rows and columns) and more flexibility to use a format that best fits the data. \n",
    "The term “NoSQL” was not coined until the early 2000s. It doesn’t mean the systems don’t use SQL, \n",
    "as NoSQL databases do sometimes support some SQL commands. More accurately, \n",
    "“NoSQL” is sometimes defined as “not only SQL.” \"\"\""
   ]
  },
  {
   "cell_type": "code",
   "execution_count": null,
   "id": "9da5695f-b1da-4315-b5ee-c0d0acbc7211",
   "metadata": {},
   "outputs": [],
   "source": [
    "#2. What is DDL? Explain why CREATE, DROP, ALTER, and TRUNCATE are used with an example."
   ]
  },
  {
   "cell_type": "code",
   "execution_count": null,
   "id": "ba5f95f2-6289-4d66-a9e3-4aaad3444d66",
   "metadata": {},
   "outputs": [],
   "source": [
    "\"\"\"Data Definition Language(DDL) is a subset of SQL and a part of DBMS(Database Management System). \n",
    "DDL consist of Commands to commands like CREATE, ALTER, TRUNCATE and DROP. These commands are used to create \n",
    "or modify the tables in SQL. \"\"\""
   ]
  },
  {
   "cell_type": "code",
   "execution_count": 2,
   "id": "52025aca-9a99-45ff-a333-e113182fdc18",
   "metadata": {},
   "outputs": [
    {
     "ename": "SyntaxError",
     "evalue": "invalid syntax (655623039.py, line 5)",
     "output_type": "error",
     "traceback": [
      "\u001b[0;36m  Cell \u001b[0;32mIn[2], line 5\u001b[0;36m\u001b[0m\n\u001b[0;31m    CREATE TABLE Student_info\u001b[0m\n\u001b[0m           ^\u001b[0m\n\u001b[0;31mSyntaxError\u001b[0m\u001b[0;31m:\u001b[0m invalid syntax\n"
     ]
    }
   ],
   "source": [
    "#CREATE\n",
    "\"\"\"This command is used to create a new table in SQL. The user has to give information like table name, \n",
    "column names, and their datatypes.\"\"\""
   ]
  },
  {
   "cell_type": "code",
   "execution_count": 12,
   "id": "d997216c-4791-4b8b-a3e1-d1f201af5d36",
   "metadata": {},
   "outputs": [
    {
     "ename": "SyntaxError",
     "evalue": "invalid syntax (641748932.py, line 1)",
     "output_type": "error",
     "traceback": [
      "\u001b[0;36m  Cell \u001b[0;32mIn[12], line 1\u001b[0;36m\u001b[0m\n\u001b[0;31m    CREATE database Student;\u001b[0m\n\u001b[0m           ^\u001b[0m\n\u001b[0;31mSyntaxError\u001b[0m\u001b[0;31m:\u001b[0m invalid syntax\n"
     ]
    }
   ],
   "source": [
    "CREATE TABLE Student_info\n",
    "(\n",
    "College_Id number(2),\n",
    "College_name varchar(30),\n",
    "Branch varchar(10)\n",
    ");"
   ]
  },
  {
   "cell_type": "code",
   "execution_count": null,
   "id": "37f52526-0c83-497b-a6e5-0f3f98e99e1c",
   "metadata": {},
   "outputs": [],
   "source": []
  }
 ],
 "metadata": {
  "kernelspec": {
   "display_name": "Python 3 (ipykernel)",
   "language": "python",
   "name": "python3"
  },
  "language_info": {
   "codemirror_mode": {
    "name": "ipython",
    "version": 3
   },
   "file_extension": ".py",
   "mimetype": "text/x-python",
   "name": "python",
   "nbconvert_exporter": "python",
   "pygments_lexer": "ipython3",
   "version": "3.10.8"
  }
 },
 "nbformat": 4,
 "nbformat_minor": 5
}
