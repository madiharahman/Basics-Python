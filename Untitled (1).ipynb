{
 "cells": [
  {
   "cell_type": "raw",
   "id": "8d34b19f-ba06-4f83-9a1b-f89382b06a89",
   "metadata": {},
   "source": [
    "#1. What is a database? Differentiate between SQL and NoSQL databases."
   ]
  },
  {
   "cell_type": "markdown",
   "id": "49251540-7d15-48df-9e89-2bd8a892f259",
   "metadata": {},
   "source": [
    " database is an organized collection of structured information, or data, typically stored electronically \n",
    "in a computer system. A database is usually controlled by a database management system (DBMS). \n",
    "Together, the data and the DBMS, along with the applications that are associated with them, \n",
    "are referred to as a database system, often shortened to just database.\n",
    "\n",
    "SQL, which stands for “Structured Query Language,” is the programming language that’s been widely used in \n",
    "managing data in relational database management systems (RDBMS) since the 1970s. \n",
    "\n",
    "In the early years, when storage was expensive, SQL databases focused on reducing data duplication.\n",
    "SQL is still widely used for querying relational databases, where data is stored in rows and tables \n",
    "that are linked in various ways. One table record may link to one other or to many others, \n",
    "or many table records may be related to many records in another table. \n",
    "These relational databases, which offer fast data storage and recovery, can handle great amounts of data\n",
    "and complex SQL queries.\n",
    "\n",
    "In the other hand NoSQL is a non-relational database, meaning it allows different structures than a \n",
    "SQL database (not rows and columns) and more flexibility to use a format that best fits the data. \n",
    "The term “NoSQL” was not coined until the early 2000s. It doesn’t mean the systems don’t use SQL, \n",
    "as NoSQL databases do sometimes support some SQL commands. More accurately, \n",
    "“NoSQL” is sometimes defined as “not only SQL.” "
   ]
  },
  {
   "cell_type": "raw",
   "id": "5f197a8e-d78d-4a32-97b0-94cd82200037",
   "metadata": {},
   "source": [
    "2. What is DDL? Explain why CREATE, DROP, ALTER, and TRUNCATE are used with an example."
   ]
  },
  {
   "cell_type": "markdown",
   "id": "0679d289-420a-4c84-a2f9-3878e86fff64",
   "metadata": {},
   "source": [
    "Data Definition Language(DDL) is a subset of SQL and a part of DBMS(Database Management System). \n",
    "DDL consist of Commands to commands like CREATE, ALTER, TRUNCATE and DROP. These commands are used to create \n",
    "or modify the tables in SQL."
   ]
  }
 ],
 "metadata": {
  "kernelspec": {
   "display_name": "Python 3 (ipykernel)",
   "language": "python",
   "name": "python3"
  },
  "language_info": {
   "codemirror_mode": {
    "name": "ipython",
    "version": 3
   },
   "file_extension": ".py",
   "mimetype": "text/x-python",
   "name": "python",
   "nbconvert_exporter": "python",
   "pygments_lexer": "ipython3",
   "version": "3.10.8"
  }
 },
 "nbformat": 4,
 "nbformat_minor": 5
}
