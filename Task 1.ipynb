{
 "cells": [
  {
   "cell_type": "code",
   "execution_count": null,
   "id": "e2c7ef54-cfad-4b56-9945-cd08e4513f6f",
   "metadata": {},
   "outputs": [],
   "source": [
    "#1. Create a function which will take a list as an argument and return the product of all the numbers after creating a flat list.\n",
    "#Use the below-given list as an argument for your function.\n",
    "\"\"\"list1 = [1,2,3,4, [44,55,66, True], False, (34,56,78,89,34), {1,2,3,3,2,1}, {1:34, \"key2\": [55, 67, 78, 89], 4: (45, 22, 61, 34)},\n",
    "[56, 'data science'], 'Machine Learning']\"\"\"\n",
    "\n",
    "#Note: you must extract numeric keys and values of the dictionary also."
   ]
  },
  {
   "cell_type": "code",
   "execution_count": 4,
   "id": "962021ec-2132-4977-b2d5-e36f563d6440",
   "metadata": {},
   "outputs": [],
   "source": [
    "def product(list1):\n",
    "    flat_list=[ ]\n",
    "    for i in list1:\n",
    "        if type(i) == list or type(i) == tuple or type(i)==set:\n",
    "            for element in i:\n",
    "                flat_list.append(element)\n",
    "        elif type(i) == dict: \n",
    "            lst=list(i.items())\n",
    "            for i in lst:\n",
    "                for element in i:\n",
    "                    if type(element)==list or type(element)==tuple:\n",
    "                        for j in element:\n",
    "                            flat_list.append(j)\n",
    "                    else:\n",
    "                        flat_list.append(element)\n",
    "        else:\n",
    "            flat_list.append(i)\n",
    "                \n",
    "    product = 1\n",
    "    for i in flat_list:\n",
    "        if type(i)==int:\n",
    "            product *= i\n",
    "    return product"
   ]
  },
  {
   "cell_type": "code",
   "execution_count": 5,
   "id": "198d1a36-f828-4fbb-9a92-ef7cdffc94a5",
   "metadata": {},
   "outputs": [
    {
     "name": "stdout",
     "output_type": "stream",
     "text": [
      "Product= 4134711838987085478833841242112000\n"
     ]
    }
   ],
   "source": [
    "list1=[1,2,3,4, [44,55,66, True], False, (34,56,78,89,34), {1,2,3,3,2,1}, {1:34, \"key2\": [55, 67, 78, 89], 4: (45, 22, 61, 34)},[56, 'data science'], 'Machine Learning']\n",
    "output=product(list1)\n",
    "print(\"Product=\",output)"
   ]
  },
  {
   "cell_type": "code",
   "execution_count": null,
   "id": "dc2d8a62-1b54-4d45-b8c8-dca72dad317a",
   "metadata": {},
   "outputs": [],
   "source": [
    "#2. Write a python program for encrypting a message sent to you by your friend. The logic of encryption should be such that, \n",
    "#for a the output should be z. For b, the output should be y. For c, the output should be x respectively. \n",
    "#Also, the whitespace should be replaced with a dollar sign. Keep the punctuation marks unchanged.\n",
    "\"\"\"\n",
    "Input Sentence: I want to become a Data Scientist.\n",
    "\n",
    "Encrypt the above input sentence using the program you just created.\n",
    "\"\"\"\n",
    "#Note: Convert the given input sentence into lowercase before encrypting. The final output should be lowercase."
   ]
  },
  {
   "cell_type": "code",
   "execution_count": 6,
   "id": "a52a0acd-8961-4248-a948-a3823d6a2fc5",
   "metadata": {},
   "outputs": [],
   "source": [
    "def en_msg(msg):\n",
    "    encr_msg = \" \"\n",
    "    for char in msg.lower():\n",
    "        if char == \" \":\n",
    "            encr_msg += \"$\"\n",
    "        elif char.isalpha():\n",
    "            encr_msg += chr(219 - ord(char))\n",
    "        else:\n",
    "            encr_msg += char\n",
    "    return encr_msg.lower()"
   ]
  }
 ],
 "metadata": {
  "kernelspec": {
   "display_name": "Python 3 (ipykernel)",
   "language": "python",
   "name": "python3"
  },
  "language_info": {
   "codemirror_mode": {
    "name": "ipython",
    "version": 3
   },
   "file_extension": ".py",
   "mimetype": "text/x-python",
   "name": "python",
   "nbconvert_exporter": "python",
   "pygments_lexer": "ipython3",
   "version": "3.10.8"
  }
 },
 "nbformat": 4,
 "nbformat_minor": 5
}
